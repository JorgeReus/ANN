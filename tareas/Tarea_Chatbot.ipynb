{
  "nbformat": 4,
  "nbformat_minor": 0,
  "metadata": {
    "colab": {
      "name": "Tarea Chatbot.ipynb",
      "version": "0.3.2",
      "provenance": [],
      "collapsed_sections": []
    },
    "kernelspec": {
      "display_name": "Python 3",
      "language": "python",
      "name": "python3"
    }
  },
  "cells": [
    {
      "metadata": {
        "id": "R0udSu24mJS6",
        "colab_type": "text"
      },
      "cell_type": "markdown",
      "source": [
        "# Tarea Chatbot Ford\n"
      ]
    },
    {
      "metadata": {
        "id": "ddXRY3homJS8",
        "colab_type": "code",
        "colab": {}
      },
      "cell_type": "code",
      "source": [
        "#inicialización de estados \n",
        "import re\n",
        "import time"
      ],
      "execution_count": 0,
      "outputs": []
    },
    {
      "metadata": {
        "id": "G83YtbkomJTB",
        "colab_type": "code",
        "colab": {}
      },
      "cell_type": "code",
      "source": [
        " # Lenguaje natural por expresiones regulares \n",
        "Promo_RE = r\"promociones|promos?|descuentos\"\n",
        "Cita_RE = r\"cita|servicio|agendar\"\n",
        "Venta_RE = r\"venta|comprar|venden\"\n",
        "horario_RE = r\"mañana|tarde|noche\"\n",
        "placa_Re = r\"\\d\\d\\d[\\s| |-]?\\w\\w\\w\" \n",
        "afirmacion_RE = r\"s[i|í]|claro|definitavamente\"\n",
        "dia_RE = r\"lunes|martes|miércoles|viernes|sábado|domingo\""
      ],
      "execution_count": 0,
      "outputs": []
    },
    {
      "metadata": {
        "id": "eHPKUA-dmJTF",
        "colab_type": "code",
        "outputId": "e99e2237-d833-440d-f7d1-6b9d4570f67a",
        "colab": {
          "base_uri": "https://localhost:8080/",
          "height": 90
        }
      },
      "cell_type": "code",
      "source": [
        "state=0\n",
        "Salida=1\n",
        "while Salida:\n",
        "    if state==0:\n",
        "        print(\"Hola soy el Chatbot de la FORD ¿En qué te puedo ayudar?\")\n",
        "        time.sleep(1)\n",
        "        opcion=input(\"Soy capaz de informarte de nuestras promociones, venta de vehículos y ayudarte a agendar un cita. \\n\\t\\t\\t\")\n",
        "        if re.findall(Promo_RE, opcion, flags=0)!=[]:\n",
        "            state=1\n",
        "        elif re.findall(Cita_RE, opcion, flags=0)!=[]: \n",
        "            state=2\n",
        "        elif re.findall(Venta_RE, opcion, flags=0)!=[]:  \n",
        "            state=3\n",
        "    if state == 1:\n",
        "        print(\"Nuestras promociones son...\")\n",
        "        state=6\n",
        "    if state == 2:\n",
        "        day = input(\"¿En qué día te gustaría agendar tu cita?. \\n\\t\\t\\t\")\n",
        "        if (re.search(dia_RE, day, re.IGNORECASE) != None):\n",
        "            state = 4\n",
        "        else:\n",
        "          print(\"Día inválido\")\n",
        "    if state == 3:\n",
        "        mail = input(\"Escribe tu correo y en un momento te contactara un agente de ventas\\n\")\n",
        "        Salida=0\n",
        "    if state == 4:\n",
        "        horario = input(\"¿En que horario quieres tu cita? (Mañana, Tarde o Noche) \\n\\t\\t\\t\")\n",
        "        if re.search(horario_RE, horario, re.IGNORECASE) != None:\n",
        "            state = 5\n",
        "        else:\n",
        "            print(\"Horario Inválido\")\n",
        "    if state == 5:\n",
        "        print(\"Gracias, en un momento te atendera un operador\")\n",
        "        Salida=0\n",
        "    if state == 6:\n",
        "        opcion=input(\"¿te puedo ayudar en algo más?  \\n\\t\\t\\t\")\n",
        "        if re.findall(afirmacion_RE, opcion, flags=0!=[]):\n",
        "            state=0\n",
        "        else:\n",
        "            print(\"Gracias fue un placer atenderte\")\n",
        "            Salida=0\n",
        "        \n",
        "        \n",
        "        "
      ],
      "execution_count": 0,
      "outputs": [
        {
          "output_type": "stream",
          "text": [
            "Hola soy el Chatbot de la FORD ¿En qué te puedo ayudar?\n",
            "Soy capaz de informarte de nuestras promociones, venta de vehículos y ayudarte a agendar un cita. \n",
            "\t\t\tventas\n",
            "Escribe tu correo y en un momento te contactara un agente de ventasj-g1996@live.com\n"
          ],
          "name": "stdout"
        }
      ]
    },
    {
      "metadata": {
        "id": "4SAYQECCmJTR",
        "colab_type": "code",
        "colab": {}
      },
      "cell_type": "code",
      "source": [
        ""
      ],
      "execution_count": 0,
      "outputs": []
    }
  ]
}