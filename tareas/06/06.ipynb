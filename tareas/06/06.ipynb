{
 "cells": [
  {
   "cell_type": "markdown",
   "metadata": {
    "colab_type": "text",
    "id": "4M5Lj0b9jNaG"
   },
   "source": [
    "## Tarea 1_ Red neuronal Perceptrón multicapa  \n",
    "\n",
    "En esta primera tarea es necesario que realicen  un clasificador de prendas de ropa  para esto será necesario usar el  conjunto de entrenamiento Fashion Mnist\n",
    "\n",
    "Este conjunto está conformado por fotografías de 10 diferentes estilos de ropa en imagenes de 28X28 \n",
    "\n",
    "El clasificador debe de ser capaz de separar adecuadamente las diferentes imágenes.  Con este tipo de red se tiene una expectativa de un 97%  de exactitud.\n",
    "\n",
    "    - Realizar la red neuronal programada completamente con TensorFlow\n",
    "    - Realizar la misma arquitectura con Keras  \n",
    "\n",
    "Adjunto encontrarán el código que ya tiene incorporada la lectura del conjunto de datos\n"
   ]
  },
  {
   "cell_type": "code",
   "execution_count": 1,
   "metadata": {
    "colab": {},
    "colab_type": "code",
    "id": "eH3DG58ijNaH"
   },
   "outputs": [],
   "source": [
    "import tensorflow as tf\n",
    "import numpy as np\n",
    "import matplotlib.pyplot as plt\n",
    "%matplotlib inline"
   ]
  },
  {
   "cell_type": "markdown",
   "metadata": {
    "colab_type": "text",
    "id": "3_r9CetUjNaM"
   },
   "source": [
    "## Lectura del conjunto de datos "
   ]
  },
  {
   "cell_type": "code",
   "execution_count": 2,
   "metadata": {
    "colab": {},
    "colab_type": "code",
    "id": "c_aVHNInjNaM",
    "outputId": "89a933fb-2a88-4e8f-9932-bbc0051e5faf"
   },
   "outputs": [],
   "source": [
    "from tensorflow.keras.datasets.fashion_mnist import load_data"
   ]
  },
  {
   "cell_type": "markdown",
   "metadata": {
    "colab_type": "text",
    "id": "rGPrEVaNjNaS"
   },
   "source": [
    "## Separando el conjunto de datos en Entrenamiento y prueba "
   ]
  },
  {
   "cell_type": "code",
   "execution_count": 3,
   "metadata": {
    "colab": {},
    "colab_type": "code",
    "id": "xISFxwdKjNaT"
   },
   "outputs": [],
   "source": [
    "(x_train, y_train), (x_test, y_test) = load_data()"
   ]
  },
  {
   "cell_type": "code",
   "execution_count": 4,
   "metadata": {},
   "outputs": [],
   "source": [
    "def num_to_onehot(num):\n",
    "    arr = np.zeros(10)\n",
    "    arr[num] = 1\n",
    "    return arr\n",
    "\n",
    "def convert_labels(nums):\n",
    "    return np.array([num_to_onehot(num) for num in nums])"
   ]
  },
  {
   "cell_type": "markdown",
   "metadata": {
    "colab_type": "text",
    "id": "6HgclF9djNaW"
   },
   "source": [
    "Analizando el conjunto de Fashion_mnist"
   ]
  },
  {
   "cell_type": "code",
   "execution_count": 5,
   "metadata": {
    "colab": {},
    "colab_type": "code",
    "id": "eg58cwGVjNaX",
    "outputId": "cdfebe5c-aa51-4501-9df1-c282f901021f"
   },
   "outputs": [],
   "source": [
    "def image_matrix(img):\n",
    "    print('\\n'.join([''.join(['{:4}'.format(item) for item in row]) \n",
    "      for row in img]))"
   ]
  },
  {
   "cell_type": "code",
   "execution_count": 6,
   "metadata": {
    "colab": {},
    "colab_type": "code",
    "id": "b7cbCu5yjNab"
   },
   "outputs": [
    {
     "name": "stdout",
     "output_type": "stream",
     "text": [
      "x_train shape: (60000, 28, 28) y_train shape: (60000,)\n",
      "x_test shape: (10000, 28, 28) y_test shape: (10000,)\n"
     ]
    },
    {
     "data": {
      "text/plain": [
       "<matplotlib.image.AxesImage at 0x7fc68b270898>"
      ]
     },
     "execution_count": 6,
     "metadata": {},
     "output_type": "execute_result"
    },
    {
     "data": {
      "image/png": "[encoded data removed]",
      "text/plain": [
       "<Figure size 432x288 with 1 Axes>"
      ]
     },
     "metadata": {
      "needs_background": "light"
     },
     "output_type": "display_data"
    }
   ],
   "source": [
    "print(\"x_train shape:\", x_train.shape, \"y_train shape:\", y_train.shape)\n",
    "print(\"x_test shape:\", x_test.shape, \"y_test shape:\", y_test.shape)\n",
    "plt.imshow(x_train[0], cmap='gray')"
   ]
  },
  {
   "cell_type": "code",
   "execution_count": 7,
   "metadata": {
    "colab": {},
    "colab_type": "code",
    "id": "0DIV1V6UjNae",
    "outputId": "7a52a89e-59fe-4176-c087-d343d33051e0"
   },
   "outputs": [
    {
     "name": "stdout",
     "output_type": "stream",
     "text": [
      "   0   0   0   0   0   0   0   0   0   0   0   0   0   0   0   0   0   0   0   0   0   0   0   0   0   0   0   0\n",
      "   0   0   0   0   0   0   0   0   0   0   0   0   0   0   0   0   0   0   0   0   0   0   0   0   0   0   0   0\n",
      "   0   0   0   0   0   0   0   0   0   0   0   0   0   0   0   0   0   0   0   0   0   0   0   0   0   0   0   0\n",
      "   0   0   0   0   0   0   0   0   0   0   0   0   1   0   0  13  73   0   0   1   4   0   0   0   0   1   1   0\n",
      "   0   0   0   0   0   0   0   0   0   0   0   0   3   0  36 136 127  62  54   0   0   0   1   3   4   0   0   3\n",
      "   0   0   0   0   0   0   0   0   0   0   0   0   6   0 102 204 176 134 144 123  23   0   0   0   0  12  10   0\n",
      "   0   0   0   0   0   0   0   0   0   0   0   0   0   0 155 236 207 178 107 156 161 109  64  23  77 130  72  15\n",
      "   0   0   0   0   0   0   0   0   0   0   0   1   0  69 207 223 218 216 216 163 127 121 122 146 141  88 172  66\n",
      "   0   0   0   0   0   0   0   0   0   1   1   1   0 200 232 232 233 229 223 223 215 213 164 127 123 196 229   0\n",
      "   0   0   0   0   0   0   0   0   0   0   0   0   0 183 225 216 223 228 235 227 224 222 224 221 223 245 173   0\n",
      "   0   0   0   0   0   0   0   0   0   0   0   0   0 193 228 218 213 198 180 212 210 211 213 223 220 243 202   0\n",
      "   0   0   0   0   0   0   0   0   0   1   3   0  12 219 220 212 218 192 169 227 208 218 224 212 226 197 209  52\n",
      "   0   0   0   0   0   0   0   0   0   0   6   0  99 244 222 220 218 203 198 221 215 213 222 220 245 119 167  56\n",
      "   0   0   0   0   0   0   0   0   0   4   0   0  55 236 228 230 228 240 232 213 218 223 234 217 217 209  92   0\n",
      "   0   0   1   4   6   7   2   0   0   0   0   0 237 226 217 223 222 219 222 221 216 223 229 215 218 255  77   0\n",
      "   0   3   0   0   0   0   0   0   0  62 145 204 228 207 213 221 218 208 211 218 224 223 219 215 224 244 159   0\n",
      "   0   0   0   0  18  44  82 107 189 228 220 222 217 226 200 205 211 230 224 234 176 188 250 248 233 238 215   0\n",
      "   0  57 187 208 224 221 224 208 204 214 208 209 200 159 245 193 206 223 255 255 221 234 221 211 220 232 246   0\n",
      "   3 202 228 224 221 211 211 214 205 205 205 220 240  80 150 255 229 221 188 154 191 210 204 209 222 228 225   0\n",
      "  98 233 198 210 222 229 229 234 249 220 194 215 217 241  65  73 106 117 168 219 221 215 217 223 223 224 229  29\n",
      "  75 204 212 204 193 205 211 225 216 185 197 206 198 213 240 195 227 245 239 223 218 212 209 222 220 221 230  67\n",
      "  48 203 183 194 213 197 185 190 194 192 202 214 219 221 220 236 225 216 199 206 186 181 177 172 181 205 206 115\n",
      "   0 122 219 193 179 171 183 196 204 210 213 207 211 210 200 196 194 191 195 191 198 192 176 156 167 177 210  92\n",
      "   0   0  74 189 212 191 175 172 175 181 185 188 189 188 193 198 204 209 210 210 211 188 188 194 192 216 170   0\n",
      "   2   0   0   0  66 200 222 237 239 242 246 243 244 221 220 193 191 179 182 182 181 176 166 168  99  58   0   0\n",
      "   0   0   0   0   0   0   0  40  61  44  72  41  35   0   0   0   0   0   0   0   0   0   0   0   0   0   0   0\n",
      "   0   0   0   0   0   0   0   0   0   0   0   0   0   0   0   0   0   0   0   0   0   0   0   0   0   0   0   0\n",
      "   0   0   0   0   0   0   0   0   0   0   0   0   0   0   0   0   0   0   0   0   0   0   0   0   0   0   0   0\n"
     ]
    }
   ],
   "source": [
    "image_matrix(x_train[0])"
   ]
  },
  {
   "cell_type": "markdown",
   "metadata": {},
   "source": [
    "Podemos Observar que el dataset no está normalizado, por ende se convertirá a una escala entre 0 y 1"
   ]
  },
  {
   "cell_type": "code",
   "execution_count": 8,
   "metadata": {},
   "outputs": [
    {
     "name": "stdout",
     "output_type": "stream",
     "text": [
      "x_train shape: (60000, 784) y_train shape: (60000, 10)\n",
      "x_test shape: (10000, 784) y_test shape: (10000, 10)\n"
     ]
    },
    {
     "data": {
      "text/plain": [
       "<matplotlib.image.AxesImage at 0x7fc68b18dd68>"
      ]
     },
     "execution_count": 8,
     "metadata": {},
     "output_type": "execute_result"
    },
    {
     "data": {
      "image/png": "[encoded data removed]",
      "text/plain": [
       "<Figure size 432x288 with 1 Axes>"
      ]
     },
     "metadata": {
      "needs_background": "light"
     },
     "output_type": "display_data"
    }
   ],
   "source": [
    "x_train = x_train.astype('float32') / 255\n",
    "x_test = x_test.astype('float32') / 255\n",
    "x_train = x_train.reshape([60000, 28*28])\n",
    "x_test = x_test.reshape([10000, 28*28])\n",
    "y_train = convert_labels(y_train)\n",
    "y_test = convert_labels(y_test)\n",
    "\n",
    "print(\"x_train shape:\", x_train.shape, \"y_train shape:\", y_train.shape)\n",
    "print(\"x_test shape:\", x_test.shape, \"y_test shape:\", y_test.shape)\n",
    "imagendemo=np.reshape(x_test[30,:],(28,28))\n",
    "plt.imshow(imagendemo,cmap='gray')"
   ]
  },
  {
   "cell_type": "markdown",
   "metadata": {
    "colab_type": "text",
    "id": "Fn5aH2NdjNai"
   },
   "source": [
    "Las etiquetas numéricas pueden ser transformadas al nombre de la clase correspondiente usando el siguiente diccionario "
   ]
  },
  {
   "cell_type": "code",
   "execution_count": 9,
   "metadata": {
    "colab": {},
    "colab_type": "code",
    "id": "spo3e07vjNaj"
   },
   "outputs": [],
   "source": [
    "label_dict = {\n",
    " 0: \"T-shirt/top\",\n",
    " 1: \"Trouser\",\n",
    " 2: \"Pullover\",\n",
    " 3: \"Dress\",\n",
    " 4: \"Coat\",\n",
    " 5: \"Sandal\",\n",
    " 6: \"Shirt\",\n",
    " 7: \"Sneaker\",\n",
    " 8: \"Bag\",\n",
    " 9: \"Ankle boot\"\n",
    "}"
   ]
  },
  {
   "cell_type": "code",
   "execution_count": 214,
   "metadata": {},
   "outputs": [],
   "source": [
    "def Neural_network_model(\n",
    "    n_nodes_hl1=128,\n",
    "    n_nodes_hl2=128,\n",
    "    n_nodes_hl3=128,\n",
    "    n_classes=10,\n",
    "    lr = 0.001\n",
    "):\n",
    "    # Declarando las entradas y salidas\n",
    "    x=tf.placeholder('float',[None,784])\n",
    "    y=tf.placeholder('float')\n",
    "    \n",
    "    # Declarando las variables \n",
    "    \n",
    "    hidden_1_layer = {'weights' : tf.Variable(tf.random_normal([784, n_nodes_hl1])),\n",
    "                      'biases' : tf.Variable(tf.random_normal([n_nodes_hl1]))}\n",
    "\n",
    "    hidden_2_layer = {'weights' : tf.Variable(tf.random_normal([n_nodes_hl1, n_nodes_hl2])),\n",
    "                      'biases' : tf.Variable(tf.random_normal([n_nodes_hl2]))}\n",
    "\n",
    "    hidden_3_layer = {'weights' : tf.Variable(tf.random_normal([n_nodes_hl2, n_nodes_hl3])),\n",
    "                     'biases' : tf.Variable(tf.random_normal([n_nodes_hl3]))}\n",
    "\n",
    "    output_layer = {'weights' : tf.Variable(tf.random_normal([n_nodes_hl2, n_classes])),\n",
    "                    'biases' : tf.Variable(tf.random_normal([n_classes]))}\n",
    "    \n",
    "    \n",
    "    ### Declarando la arquitectura\n",
    "    # l1 = relu(w1 * p + b1)\n",
    "    l1 = tf.nn.relu(tf.add(tf.matmul(x, hidden_1_layer['weights']), hidden_1_layer['biases']))\n",
    "    \n",
    "    #l2 = relu(w2 * l1 + b2)\n",
    "    l2 = tf.nn.relu(tf.add(tf.matmul(l1, hidden_2_layer['weights']), hidden_2_layer['biases']))\n",
    "\n",
    "    # l3 = relu(w3 * l2 + b3)\n",
    "    l3 = tf.nn.relu(tf.add(tf.matmul(l2, hidden_3_layer['weights']), hidden_3_layer['biases']))\n",
    "\n",
    "    # output = w * l3 + b \n",
    "    output = tf.add(tf.matmul(l2, output_layer['weights']), output_layer['biases'])\n",
    "    \n",
    "    # Declarando la funcion de costo y optimizador\n",
    "    cost = tf.reduce_mean(tf.nn.softmax_cross_entropy_with_logits(logits=output\n",
    "           , labels=y) )\n",
    "    optimizer = tf.train.AdamOptimizer(lr).minimize(cost)\n",
    "    \n",
    "    return dict(\n",
    "              x=x,\n",
    "              y=y,\n",
    "              output=output,\n",
    "              cost=cost,\n",
    "              optimizer=optimizer\n",
    "              )\n"
   ]
  },
  {
   "cell_type": "code",
   "execution_count": 182,
   "metadata": {},
   "outputs": [
    {
     "data": {
      "text/plain": [
       "{'x': <tf.Tensor 'Placeholder_294:0' shape=(?, 784) dtype=float32>,\n",
       " 'y': <tf.Tensor 'Placeholder_295:0' shape=<unknown> dtype=float32>,\n",
       " 'output': <tf.Tensor 'Add_410:0' shape=(?, 10) dtype=float32>,\n",
       " 'cost': <tf.Tensor 'Mean_279:0' shape=() dtype=float32>,\n",
       " 'optimizer': <tf.Operation 'Adam_142' type=NoOp>}"
      ]
     },
     "execution_count": 182,
     "metadata": {},
     "output_type": "execute_result"
    }
   ],
   "source": [
    "Neural_network_model()"
   ]
  },
  {
   "cell_type": "code",
   "execution_count": 183,
   "metadata": {},
   "outputs": [],
   "source": [
    "def train_neural_network(DNN, hm_epochs=10, batch_size=100):\n",
    "    with tf.Session() as sess:\n",
    "        sess.run(tf.global_variables_initializer())\n",
    "\n",
    "        for epoch in range(hm_epochs):\n",
    "            \n",
    "            epoch_loss = 0\n",
    "            for current_batch in range(int(len(x_train) / batch_size)):\n",
    "                epoch_x = x_train[current_batch * batch_size : (current_batch + 1) * batch_size]\n",
    "                epoch_y = y_train[current_batch * batch_size : (current_batch + 1) * batch_size]\n",
    "                feed_dict={DNN[\"x\"]: epoch_x, \n",
    "                           DNN[\"y\"]: epoch_y}\n",
    "                _, c, prediction,y   = sess.run([DNN[\"optimizer\"], DNN[\"cost\"]\n",
    "                                                 , DNN[\"output\"], DNN[\"y\"]], \n",
    "                                                feed_dict=feed_dict)\n",
    "                epoch_loss += c\n",
    "\n",
    "            print('Epoch', epoch, 'completed out of',hm_epochs,'loss:',epoch_loss)      \n",
    "        #Prueba con datos nunca antes vistos  \n",
    "        prediction, y = sess.run([DNN[\"output\"], DNN[\"y\"]], feed_dict={DNN[\"x\"]:x_test, DNN[\"y\"]:y_test})\n",
    "        correct = tf.equal(tf.argmax(prediction, 1), tf.argmax(y, 1))\n",
    "        accuracy = tf.reduce_mean(tf.cast(correct, 'float'))\n",
    "        print('Accuracy:', accuracy.eval())"
   ]
  },
  {
   "cell_type": "markdown",
   "metadata": {},
   "source": [
    "0.8722\n",
    "DNN=Neural_network_model(lr=0.002, \n",
    "                         n_nodes_hl1=415,\n",
    "                         n_nodes_hl2=400\n",
    "                        )\n",
    "train_neural_network(DNN, hm_epochs=160, batch_size=220)"
   ]
  },
  {
   "cell_type": "code",
   "execution_count": 243,
   "metadata": {},
   "outputs": [
    {
     "name": "stdout",
     "output_type": "stream",
     "text": [
      "Epoch 0 completed out of 160 loss: 70059.83624267578\n",
      "Epoch 1 completed out of 160 loss: 24846.77335357666\n",
      "Epoch 2 completed out of 160 loss: 18084.853073120117\n",
      "Epoch 3 completed out of 160 loss: 13592.499898910522\n",
      "Epoch 4 completed out of 160 loss: 10957.98071861267\n",
      "Epoch 5 completed out of 160 loss: 8788.518594741821\n",
      "Epoch 6 completed out of 160 loss: 7454.193305015564\n",
      "Epoch 7 completed out of 160 loss: 6329.3047795295715\n",
      "Epoch 8 completed out of 160 loss: 5490.286880016327\n",
      "Epoch 9 completed out of 160 loss: 4942.4632959365845\n",
      "Epoch 10 completed out of 160 loss: 4252.645440578461\n",
      "Epoch 11 completed out of 160 loss: 4103.245660305023\n",
      "Epoch 12 completed out of 160 loss: 3568.115049600601\n",
      "Epoch 13 completed out of 160 loss: 3279.577351331711\n",
      "Epoch 14 completed out of 160 loss: 3157.990337371826\n",
      "Epoch 15 completed out of 160 loss: 2932.439615011215\n",
      "Epoch 16 completed out of 160 loss: 2620.1460258960724\n",
      "Epoch 17 completed out of 160 loss: 2224.8410252332687\n",
      "Epoch 18 completed out of 160 loss: 1998.2197939157486\n",
      "Epoch 19 completed out of 160 loss: 1856.6045496463776\n",
      "Epoch 20 completed out of 160 loss: 1707.4354370832443\n",
      "Epoch 21 completed out of 160 loss: 1622.3796405792236\n",
      "Epoch 22 completed out of 160 loss: 1672.2319458127022\n",
      "Epoch 23 completed out of 160 loss: 1500.5819149017334\n",
      "Epoch 24 completed out of 160 loss: 1402.076623737812\n",
      "Epoch 25 completed out of 160 loss: 1430.2667104005814\n",
      "Epoch 26 completed out of 160 loss: 1391.5843214690685\n",
      "Epoch 27 completed out of 160 loss: 1318.0592087507248\n",
      "Epoch 28 completed out of 160 loss: 1357.831986054778\n",
      "Epoch 29 completed out of 160 loss: 1462.0858238339424\n",
      "Epoch 30 completed out of 160 loss: 1361.9785821437836\n",
      "Epoch 31 completed out of 160 loss: 1244.0782747268677\n",
      "Epoch 32 completed out of 160 loss: 1110.1451140642166\n",
      "Epoch 33 completed out of 160 loss: 963.2618578672409\n",
      "Epoch 34 completed out of 160 loss: 911.6631952524185\n",
      "Epoch 35 completed out of 160 loss: 870.2338359057903\n",
      "Epoch 36 completed out of 160 loss: 798.6547408252954\n",
      "Epoch 37 completed out of 160 loss: 788.1002762615681\n",
      "Epoch 38 completed out of 160 loss: 780.0412241816521\n",
      "Epoch 39 completed out of 160 loss: 773.0701731145382\n",
      "Epoch 40 completed out of 160 loss: 763.2479785084724\n",
      "Epoch 41 completed out of 160 loss: 705.0530541911721\n",
      "Epoch 42 completed out of 160 loss: 630.163925771544\n",
      "Epoch 43 completed out of 160 loss: 669.0638585090637\n",
      "Epoch 44 completed out of 160 loss: 718.7696624994278\n",
      "Epoch 45 completed out of 160 loss: 703.2722864449024\n",
      "Epoch 46 completed out of 160 loss: 740.754177480936\n",
      "Epoch 47 completed out of 160 loss: 669.2509751915932\n",
      "Epoch 48 completed out of 160 loss: 635.1674462258816\n",
      "Epoch 49 completed out of 160 loss: 631.7461897134781\n",
      "Epoch 50 completed out of 160 loss: 629.8072617948055\n",
      "Epoch 51 completed out of 160 loss: 598.4447757601738\n",
      "Epoch 52 completed out of 160 loss: 563.00719898846\n",
      "Epoch 53 completed out of 160 loss: 585.8152794092894\n",
      "Epoch 54 completed out of 160 loss: 595.3861100748181\n",
      "Epoch 55 completed out of 160 loss: 605.6632018238306\n",
      "Epoch 56 completed out of 160 loss: 534.6172593832016\n",
      "Epoch 57 completed out of 160 loss: 602.5911968648434\n",
      "Epoch 58 completed out of 160 loss: 571.0828138813376\n",
      "Epoch 59 completed out of 160 loss: 542.3359935805202\n",
      "Epoch 60 completed out of 160 loss: 495.9781132787466\n",
      "Epoch 61 completed out of 160 loss: 521.3046754747629\n",
      "Epoch 62 completed out of 160 loss: 448.68934075534344\n",
      "Epoch 63 completed out of 160 loss: 485.5610493645072\n",
      "Epoch 64 completed out of 160 loss: 438.208200441657\n",
      "Epoch 65 completed out of 160 loss: 462.45198032283224\n",
      "Epoch 66 completed out of 160 loss: 434.074124187282\n",
      "Epoch 67 completed out of 160 loss: 450.34079772233963\n",
      "Epoch 68 completed out of 160 loss: 421.99110840283\n",
      "Epoch 69 completed out of 160 loss: 370.5992433412466\n",
      "Epoch 70 completed out of 160 loss: 387.9717722013593\n",
      "Epoch 71 completed out of 160 loss: 397.1760656349361\n",
      "Epoch 72 completed out of 160 loss: 388.9470079895109\n",
      "Epoch 73 completed out of 160 loss: 380.93235016429577\n",
      "Epoch 74 completed out of 160 loss: 408.0600615274161\n",
      "Epoch 75 completed out of 160 loss: 365.5685141570866\n",
      "Epoch 76 completed out of 160 loss: 389.7546445950866\n",
      "Epoch 77 completed out of 160 loss: 404.1722325710469\n",
      "Epoch 78 completed out of 160 loss: 342.44348803162575\n",
      "Epoch 79 completed out of 160 loss: 368.25538966059685\n",
      "Epoch 80 completed out of 160 loss: 377.15323117375374\n",
      "Epoch 81 completed out of 160 loss: 363.2961737770147\n",
      "Epoch 82 completed out of 160 loss: 371.41324906796217\n",
      "Epoch 83 completed out of 160 loss: 349.31046989932656\n",
      "Epoch 84 completed out of 160 loss: 361.3160650246282\n",
      "Epoch 85 completed out of 160 loss: 354.88648626208305\n",
      "Epoch 86 completed out of 160 loss: 348.6252588223797\n",
      "Epoch 87 completed out of 160 loss: 380.5139176468365\n",
      "Epoch 88 completed out of 160 loss: 370.48689128122805\n",
      "Epoch 89 completed out of 160 loss: 306.19975659251213\n",
      "Epoch 90 completed out of 160 loss: 309.9531563427299\n",
      "Epoch 91 completed out of 160 loss: 330.36212065443397\n",
      "Epoch 92 completed out of 160 loss: 330.8203433621675\n",
      "Epoch 93 completed out of 160 loss: 282.83357221540064\n",
      "Epoch 94 completed out of 160 loss: 274.2644415764371\n",
      "Epoch 95 completed out of 160 loss: 310.4695234801602\n",
      "Epoch 96 completed out of 160 loss: 329.5722883793642\n",
      "Epoch 97 completed out of 160 loss: 312.22822092473507\n",
      "Epoch 98 completed out of 160 loss: 284.8305581487366\n",
      "Epoch 99 completed out of 160 loss: 269.7750153866877\n",
      "Epoch 100 completed out of 160 loss: 310.2382189720229\n",
      "Epoch 101 completed out of 160 loss: 285.1302889622857\n",
      "Epoch 102 completed out of 160 loss: 272.73210667155286\n",
      "Epoch 103 completed out of 160 loss: 290.83787229436894\n",
      "Epoch 104 completed out of 160 loss: 263.1629747053075\n",
      "Epoch 105 completed out of 160 loss: 267.7326292735115\n",
      "Epoch 106 completed out of 160 loss: 260.6049163952812\n",
      "Epoch 107 completed out of 160 loss: 242.81705693470488\n",
      "Epoch 108 completed out of 160 loss: 238.92611312063286\n",
      "Epoch 109 completed out of 160 loss: 227.02114439901672\n",
      "Epoch 110 completed out of 160 loss: 260.47427204297855\n",
      "Epoch 111 completed out of 160 loss: 234.07758072571397\n",
      "Epoch 112 completed out of 160 loss: 264.15695996585674\n",
      "Epoch 113 completed out of 160 loss: 272.86192836400005\n",
      "Epoch 114 completed out of 160 loss: 254.7845446873127\n",
      "Epoch 115 completed out of 160 loss: 240.61526837501577\n",
      "Epoch 116 completed out of 160 loss: 280.97918843014816\n",
      "Epoch 117 completed out of 160 loss: 242.61874588367755\n",
      "Epoch 118 completed out of 160 loss: 242.94028233905476\n",
      "Epoch 119 completed out of 160 loss: 233.2990450844227\n",
      "Epoch 120 completed out of 160 loss: 230.53492064079012\n",
      "Epoch 121 completed out of 160 loss: 247.236798410197\n",
      "Epoch 122 completed out of 160 loss: 223.2603580262512\n",
      "Epoch 123 completed out of 160 loss: 215.70996508739773\n",
      "Epoch 124 completed out of 160 loss: 240.06337305461057\n",
      "Epoch 125 completed out of 160 loss: 262.6694924025001\n",
      "Epoch 126 completed out of 160 loss: 225.0762429879933\n",
      "Epoch 127 completed out of 160 loss: 223.43137247246443\n",
      "Epoch 128 completed out of 160 loss: 201.3879445300855\n",
      "Epoch 129 completed out of 160 loss: 241.14573238127986\n",
      "Epoch 130 completed out of 160 loss: 232.4885850977443\n",
      "Epoch 131 completed out of 160 loss: 258.50651443276456\n",
      "Epoch 132 completed out of 160 loss: 223.95725807346057\n",
      "Epoch 133 completed out of 160 loss: 231.06834450161753\n",
      "Epoch 134 completed out of 160 loss: 192.51017534425733\n",
      "Epoch 135 completed out of 160 loss: 191.49267999487418\n",
      "Epoch 136 completed out of 160 loss: 212.83143499782256\n",
      "Epoch 137 completed out of 160 loss: 232.8257713034334\n",
      "Epoch 138 completed out of 160 loss: 204.83957970954003\n",
      "Epoch 139 completed out of 160 loss: 215.6395998023875\n",
      "Epoch 140 completed out of 160 loss: 209.928031591292\n",
      "Epoch 141 completed out of 160 loss: 233.4860398000019\n",
      "Epoch 142 completed out of 160 loss: 197.14197443309325\n",
      "Epoch 143 completed out of 160 loss: 177.9096093697114\n",
      "Epoch 144 completed out of 160 loss: 189.68056054749187\n",
      "Epoch 145 completed out of 160 loss: 208.4878234511774\n",
      "Epoch 146 completed out of 160 loss: 210.88906233502485\n",
      "Epoch 147 completed out of 160 loss: 199.35242399012353\n",
      "Epoch 148 completed out of 160 loss: 162.9038826098738\n",
      "Epoch 149 completed out of 160 loss: 206.08949907119688\n"
     ]
    },
    {
     "name": "stdout",
     "output_type": "stream",
     "text": [
      "Epoch 150 completed out of 160 loss: 175.02946912774735\n",
      "Epoch 151 completed out of 160 loss: 216.5819627981337\n",
      "Epoch 152 completed out of 160 loss: 190.5480062486236\n",
      "Epoch 153 completed out of 160 loss: 194.52674235777778\n",
      "Epoch 154 completed out of 160 loss: 206.1612397032419\n",
      "Epoch 155 completed out of 160 loss: 156.64893317184848\n",
      "Epoch 156 completed out of 160 loss: 191.1074864391162\n",
      "Epoch 157 completed out of 160 loss: 203.06302834325066\n",
      "Epoch 158 completed out of 160 loss: 177.23883366780984\n",
      "Epoch 159 completed out of 160 loss: 241.75228138804232\n",
      "Accuracy: 0.8715\n"
     ]
    }
   ],
   "source": [
    "DNN=Neural_network_model(lr=0.002, \n",
    "                         n_nodes_hl1=430,\n",
    "                         n_nodes_hl2=430 \n",
    "                        )\n",
    "train_neural_network(DNN, hm_epochs=160, batch_size=220)"
   ]
  },
  {
   "cell_type": "code",
   "execution_count": null,
   "metadata": {},
   "outputs": [],
   "source": []
  }
 ],
 "metadata": {
  "colab": {
   "name": "Copia de Tarea de la red_Vanilla .ipynb",
   "provenance": [
    {
     "file_id": "1qHsAJyy4hyxUpe5Cwur9SIaFQqwGE6dw",
     "timestamp": 1552492644430
    }
   ],
   "version": "0.3.2"
  },
  "kernelspec": {
   "display_name": "ANN",
   "language": "python",
   "name": "ann"
  },
  "language_info": {
   "codemirror_mode": {
    "name": "ipython",
    "version": 3
   },
   "file_extension": ".py",
   "mimetype": "text/x-python",
   "name": "python",
   "nbconvert_exporter": "python",
   "pygments_lexer": "ipython3",
   "version": "3.6.8"
  }
 },
 "nbformat": 4,
 "nbformat_minor": 1
}
