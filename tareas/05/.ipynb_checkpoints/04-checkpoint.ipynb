{
 "cells": [
  {
   "cell_type": "code",
   "execution_count": 1,
   "metadata": {},
   "outputs": [],
   "source": [
    "import numpy as np\n",
    "import matplotlib.pyplot as plt\n",
    "import matplotlib.image as mpimg\n",
    "%matplotlib inline\n",
    "from PIL import Image,ImageOps\n",
    "import os\n",
    "import math\n",
    "import json\n",
    "from io import StringIO\n",
    "import skimage as ski\n",
    "from skimage import data, io, filters\n",
    "from sklearn.neural_network import MLPClassifier\n",
    "from sklearn.metrics import accuracy_score,classification_report,confusion_matrix"
   ]
  },
  {
   "cell_type": "code",
   "execution_count": 2,
   "metadata": {
    "scrolled": true
   },
   "outputs": [
    {
     "ename": "FileNotFoundError",
     "evalue": "[Errno 2] No such file or directory: 'images/foto.jpg'",
     "output_type": "error",
     "traceback": [
      "\u001b[0;31m---------------------------------------------------------------------------\u001b[0m",
      "\u001b[0;31mFileNotFoundError\u001b[0m                         Traceback (most recent call last)",
      "\u001b[0;32m<ipython-input-2-a7a009297f42>\u001b[0m in \u001b[0;36m<module>\u001b[0;34m\u001b[0m\n\u001b[1;32m      1\u001b[0m \u001b[0mphoto\u001b[0m \u001b[0;34m=\u001b[0m \u001b[0mos\u001b[0m\u001b[0;34m.\u001b[0m\u001b[0mpath\u001b[0m\u001b[0;34m.\u001b[0m\u001b[0mjoin\u001b[0m\u001b[0;34m(\u001b[0m\u001b[0;34m\"images/foto.jpg\"\u001b[0m\u001b[0;34m)\u001b[0m\u001b[0;34m\u001b[0m\u001b[0;34m\u001b[0m\u001b[0m\n\u001b[0;32m----> 2\u001b[0;31m \u001b[0mph\u001b[0m \u001b[0;34m=\u001b[0m \u001b[0mImage\u001b[0m\u001b[0;34m.\u001b[0m\u001b[0mopen\u001b[0m\u001b[0;34m(\u001b[0m\u001b[0mphoto\u001b[0m\u001b[0;34m)\u001b[0m\u001b[0;34m\u001b[0m\u001b[0;34m\u001b[0m\u001b[0m\n\u001b[0m\u001b[1;32m      3\u001b[0m \u001b[0mph\u001b[0m\u001b[0;34m\u001b[0m\u001b[0;34m\u001b[0m\u001b[0m\n",
      "\u001b[0;32m~/.local/lib/python3.6/site-packages/PIL/Image.py\u001b[0m in \u001b[0;36mopen\u001b[0;34m(fp, mode)\u001b[0m\n\u001b[1;32m   2607\u001b[0m \u001b[0;34m\u001b[0m\u001b[0m\n\u001b[1;32m   2608\u001b[0m     \u001b[0;32mif\u001b[0m \u001b[0mfilename\u001b[0m\u001b[0;34m:\u001b[0m\u001b[0;34m\u001b[0m\u001b[0;34m\u001b[0m\u001b[0m\n\u001b[0;32m-> 2609\u001b[0;31m         \u001b[0mfp\u001b[0m \u001b[0;34m=\u001b[0m \u001b[0mbuiltins\u001b[0m\u001b[0;34m.\u001b[0m\u001b[0mopen\u001b[0m\u001b[0;34m(\u001b[0m\u001b[0mfilename\u001b[0m\u001b[0;34m,\u001b[0m \u001b[0;34m\"rb\"\u001b[0m\u001b[0;34m)\u001b[0m\u001b[0;34m\u001b[0m\u001b[0;34m\u001b[0m\u001b[0m\n\u001b[0m\u001b[1;32m   2610\u001b[0m         \u001b[0mexclusive_fp\u001b[0m \u001b[0;34m=\u001b[0m \u001b[0;32mTrue\u001b[0m\u001b[0;34m\u001b[0m\u001b[0;34m\u001b[0m\u001b[0m\n\u001b[1;32m   2611\u001b[0m \u001b[0;34m\u001b[0m\u001b[0m\n",
      "\u001b[0;31mFileNotFoundError\u001b[0m: [Errno 2] No such file or directory: 'images/foto.jpg'"
     ]
    }
   ],
   "source": [
    "photo = os.path.join(\"foto.jpg\")\n",
    "ph = Image.open(photo)\n",
    "ph"
   ]
  },
  {
   "cell_type": "markdown",
   "metadata": {},
   "source": [
    "### Funciones de Extracción de Características"
   ]
  },
  {
   "cell_type": "code",
   "execution_count": null,
   "metadata": {},
   "outputs": [],
   "source": [
    "def binarize_image(img, threshold=160):\n",
    "    \"\"\"\n",
    "        Función para binarizar una imagen en blanco y negro\n",
    "        threshold: valor entero el cual usa para diferenciar entre negro y blanco\n",
    "        un valor más bajo o igual que threshold es negro en cualquier otro caso es blanco\n",
    "    \"\"\"\n",
    "    x, y = img.shape\n",
    "    z = np.zeros((x,y))\n",
    "    for i in range(x):\n",
    "        for j in range(y):\n",
    "            value = int(img[i,j] * 255)\n",
    "            if value <= threshold:\n",
    "                z[i, j] = 0\n",
    "            else:\n",
    "                z[i, j] = 255\n",
    "    return z\n",
    "\n",
    "def extract_characteristics(img):\n",
    "    \"\"\"\n",
    "        Función que preprocesa la imagen y retorna los centroides y los momentos de Hu\n",
    "    \"\"\"\n",
    "    # Convertimos en un arreglo la imagen\n",
    "    array = np.array(img)\n",
    "    # Cambiamos la codificación de colores a escala de grises\n",
    "    grayscale_ph = ski.color.rgb2gray(array)\n",
    "    # Invertimos el colore de los pixeles\n",
    "    inverted_ph = ski.util.invert(grayscale_ph)\n",
    "    # Binarizamos la imagen en blanco y negro\n",
    "    bin_image = binarize_image(inverted_ph)\n",
    "    # Creamos los labels para las regiones\n",
    "    label_image = ski.measure.label(bin_image)\n",
    "    # Mostramos las regiones\n",
    "    plt.imshow(ski.color.label2rgb(label_image))\n",
    "    regions = ski.measure.regionprops(label_image)\n",
    "    # Obtenemos los centroides y los momentos de Hu\n",
    "    centroids = []\n",
    "    hu_moments = []\n",
    "    for region in regions:\n",
    "        centroids.append(region.centroid)\n",
    "        hu_moments.append(region.moments_hu)\n",
    "    return centroids, hu_moments\n",
    "        "
   ]
  },
  {
   "cell_type": "code",
   "execution_count": null,
   "metadata": {},
   "outputs": [],
   "source": [
    "color_characteristics, form_characteristics = extract_characteristics(ph)"
   ]
  },
  {
   "cell_type": "markdown",
   "metadata": {},
   "source": [
    "### Clasificador de Color\n",
    "- Azul=[1, 0, 0]\n",
    "- Verde/Café=[0, 1, 0]\n",
    "- Negro=[0, 0, 1]"
   ]
  },
  {
   "cell_type": "code",
   "execution_count": null,
   "metadata": {},
   "outputs": [],
   "source": [
    "def obtain_pixel(arr, coordinate):   \n",
    "    x = int(coordinate[0])\n",
    "    y = int(coordinate[1])\n",
    "    return np.array([arr[x, y][0], arr[x, y][1], arr[x, y][2]]), \"RGB({0}, {1}, {2})\".format(\n",
    "        arr[x, y][0], arr[x, y][1], arr[x, y][2])\n",
    "    \n",
    "\n",
    "def color_reader(image, characteristics, filename):\n",
    "    arr = np.array(image)\n",
    "    with open(filename) as data_file:    \n",
    "         tags = json.load(data_file)\n",
    "    train_data = []\n",
    "    train_tags = []\n",
    "    for char in characteristics:\n",
    "        data, tag = obtain_pixel(arr, char)\n",
    "        train_data.append(data)\n",
    "        train_tags.append(tags[tag]) \n",
    "    return np.array(train_data), np.array(train_tags)\n"
   ]
  },
  {
   "cell_type": "code",
   "execution_count": null,
   "metadata": {
    "scrolled": true
   },
   "outputs": [],
   "source": [
    "json_filepath = os.path.join(\"tarea_color.json\")\n",
    "X_train, y_train = color_reader(ph, color_characteristics, json_filepath)\n",
    "print(X_train)\n",
    "print(y_train)"
   ]
  },
  {
   "cell_type": "code",
   "execution_count": null,
   "metadata": {},
   "outputs": [],
   "source": [
    "color_classifier = MLPClassifier(solver='lbfgs', alpha=1e-5,\n",
    "                  hidden_layer_sizes=(10, 3), random_state=1)"
   ]
  },
  {
   "cell_type": "code",
   "execution_count": null,
   "metadata": {},
   "outputs": [],
   "source": [
    "color_classifier.fit(X_train,y_train)"
   ]
  },
  {
   "cell_type": "code",
   "execution_count": null,
   "metadata": {},
   "outputs": [],
   "source": [
    "def one_hot_detector(onehot):\n",
    "    return [np.argmax(output) for output in onehot]\n",
    "pred = color_classifier.predict(X_train)\n",
    "predclass=one_hot_detector(pred)\n",
    "yclass=one_hot_detector(y_train)\n",
    "print(accuracy_score(predclass,yclass)) \n",
    "print(confusion_matrix(predclass,yclass))"
   ]
  },
  {
   "cell_type": "markdown",
   "metadata": {},
   "source": [
    "### Clasificador de forma\n",
    "- Cuadro = [1, 0, 0]\n",
    "- Triángulo = [0, 1, 0]\n",
    "- Círculo = [0, 0, 1]"
   ]
  },
  {
   "cell_type": "code",
   "execution_count": null,
   "metadata": {},
   "outputs": [],
   "source": [
    "def form_reader(characteristics, filename):\n",
    "    with open(filename) as data_file:    \n",
    "         tags = json.load(data_file)\n",
    "    train_data = []\n",
    "    train_tags = []\n",
    "    for i, char in enumerate(characteristics):\n",
    "        train_data.append(char)\n",
    "        train_tags.append(tags[str(i + 1)]) \n",
    "    return np.array(train_data), np.array(train_tags)"
   ]
  },
  {
   "cell_type": "code",
   "execution_count": null,
   "metadata": {},
   "outputs": [],
   "source": [
    "json_filepath = os.path.join(\"tarea_forma.json\")\n",
    "X_train, y_train = form_reader(form_characteristics, json_filepath)"
   ]
  },
  {
   "cell_type": "code",
   "execution_count": null,
   "metadata": {},
   "outputs": [],
   "source": [
    "form_classifier = MLPClassifier(solver='lbfgs', alpha=1e-5,\n",
    "                  hidden_layer_sizes=(10, 3), random_state=1)"
   ]
  },
  {
   "cell_type": "code",
   "execution_count": null,
   "metadata": {},
   "outputs": [],
   "source": [
    "form_classifier.fit(X_train,y_train)"
   ]
  },
  {
   "cell_type": "code",
   "execution_count": null,
   "metadata": {},
   "outputs": [],
   "source": [
    "pred = form_classifier.predict(X_train)\n",
    "predclass = one_hot_detector(pred)\n",
    "yclass = one_hot_detector(y_train)\n",
    "print(accuracy_score(predclass,yclass)) \n",
    "print(confusion_matrix(predclass,yclass))"
   ]
  }
 ],
 "metadata": {
  "kernelspec": {
   "display_name": "ANN",
   "language": "python",
   "name": "ann"
  },
  "language_info": {
   "codemirror_mode": {
    "name": "ipython",
    "version": 3
   },
   "file_extension": ".py",
   "mimetype": "text/x-python",
   "name": "python",
   "nbconvert_exporter": "python",
   "pygments_lexer": "ipython3",
   "version": "3.6.8"
  }
 },
 "nbformat": 4,
 "nbformat_minor": 2
}
