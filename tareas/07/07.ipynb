{
 "cells": [
  {
   "cell_type": "markdown",
   "metadata": {
    "colab_type": "text",
    "id": "4M5Lj0b9jNaG"
   },
   "source": [
    "## Tarea 1_ Red neuronal Perceptrón multicapa  \n",
    "\n",
    "En esta primera tarea es necesario que realicen  un clasificador de prendas de ropa  para esto será necesario usar el  conjunto de entrenamiento Fashion Mnist\n",
    "\n",
    "Este conjunto está conformado por fotografías de 10 diferentes estilos de ropa en imagenes de 28X28 \n",
    "\n",
    "El clasificador debe de ser capaz de separar adecuadamente las diferentes imágenes.  Con este tipo de red se tiene una expectativa de un 97%  de exactitud.\n",
    "\n",
    "    - Realizar la red neuronal programada completamente con TensorFlow\n",
    "    - Realizar la misma arquitectura con Keras  \n",
    "\n",
    "Adjunto encontrarán el código que ya tiene incorporada la lectura del conjunto de datos\n"
   ]
  },
  {
   "cell_type": "code",
   "execution_count": 1,
   "metadata": {
    "colab": {},
    "colab_type": "code",
    "id": "eH3DG58ijNaH"
   },
   "outputs": [],
   "source": [
    "import tensorflow as tf\n",
    "import numpy as np\n",
    "import matplotlib.pyplot as plt\n",
    "%matplotlib inline"
   ]
  },
  {
   "cell_type": "markdown",
   "metadata": {
    "colab_type": "text",
    "id": "3_r9CetUjNaM"
   },
   "source": [
    "## Lectura del conjunto de datos "
   ]
  },
  {
   "cell_type": "code",
   "execution_count": 2,
   "metadata": {
    "colab": {},
    "colab_type": "code",
    "id": "c_aVHNInjNaM",
    "outputId": "89a933fb-2a88-4e8f-9932-bbc0051e5faf"
   },
   "outputs": [],
   "source": [
    "from tensorflow.keras.datasets.fashion_mnist import load_data"
   ]
  },
  {
   "cell_type": "markdown",
   "metadata": {
    "colab_type": "text",
    "id": "rGPrEVaNjNaS"
   },
   "source": [
    "## Separando el conjunto de datos en Entrenamiento y prueba "
   ]
  },
  {
   "cell_type": "code",
   "execution_count": 3,
   "metadata": {
    "colab": {},
    "colab_type": "code",
    "id": "xISFxwdKjNaT"
   },
   "outputs": [],
   "source": [
    "(x_train, y_train), (x_test, y_test) = load_data()"
   ]
  },
  {
   "cell_type": "code",
   "execution_count": 4,
   "metadata": {},
   "outputs": [],
   "source": [
    "def num_to_onehot(num):\n",
    "    arr = np.zeros(10)\n",
    "    arr[num] = 1\n",
    "    return arr\n",
    "\n",
    "def convert_labels(nums):\n",
    "    return np.array([num_to_onehot(num) for num in nums])"
   ]
  },
  {
   "cell_type": "markdown",
   "metadata": {
    "colab_type": "text",
    "id": "6HgclF9djNaW"
   },
   "source": [
    "Analizando el conjunto de Fashion_mnist"
   ]
  },
  {
   "cell_type": "code",
   "execution_count": 5,
   "metadata": {
    "colab": {},
    "colab_type": "code",
    "id": "eg58cwGVjNaX",
    "outputId": "cdfebe5c-aa51-4501-9df1-c282f901021f"
   },
   "outputs": [],
   "source": [
    "def image_matrix(img):\n",
    "    print('\\n'.join([''.join(['{:4}'.format(item) for item in row]) \n",
    "      for row in img]))"
   ]
  },
  {
   "cell_type": "code",
   "execution_count": 6,
   "metadata": {
    "colab": {},
    "colab_type": "code",
    "id": "b7cbCu5yjNab"
   },
   "outputs": [
    {
     "name": "stdout",
     "output_type": "stream",
     "text": [
      "x_train shape: (60000, 28, 28) y_train shape: (60000,)\n",
      "x_test shape: (10000, 28, 28) y_test shape: (10000,)\n"
     ]
    },
    {
     "data": {
      "text/plain": [
       "<matplotlib.image.AxesImage at 0x7f5ea01c60f0>"
      ]
     },
     "execution_count": 6,
     "metadata": {},
     "output_type": "execute_result"
    },
    {
     "data": {
      "image/png": "[encoded data removed]",
      "text/plain": [
       "<Figure size 432x288 with 1 Axes>"
      ]
     },
     "metadata": {
      "needs_background": "light"
     },
     "output_type": "display_data"
    }
   ],
   "source": [
    "print(\"x_train shape:\", x_train.shape, \"y_train shape:\", y_train.shape)\n",
    "print(\"x_test shape:\", x_test.shape, \"y_test shape:\", y_test.shape)\n",
    "plt.imshow(x_train[0], cmap='gray')"
   ]
  },
  {
   "cell_type": "code",
   "execution_count": 7,
   "metadata": {
    "colab": {},
    "colab_type": "code",
    "id": "0DIV1V6UjNae",
    "outputId": "7a52a89e-59fe-4176-c087-d343d33051e0"
   },
   "outputs": [
    {
     "name": "stdout",
     "output_type": "stream",
     "text": [
      "   0   0   0   0   0   0   0   0   0   0   0   0   0   0   0   0   0   0   0   0   0   0   0   0   0   0   0   0\n",
      "   0   0   0   0   0   0   0   0   0   0   0   0   0   0   0   0   0   0   0   0   0   0   0   0   0   0   0   0\n",
      "   0   0   0   0   0   0   0   0   0   0   0   0   0   0   0   0   0   0   0   0   0   0   0   0   0   0   0   0\n",
      "   0   0   0   0   0   0   0   0   0   0   0   0   1   0   0  13  73   0   0   1   4   0   0   0   0   1   1   0\n",
      "   0   0   0   0   0   0   0   0   0   0   0   0   3   0  36 136 127  62  54   0   0   0   1   3   4   0   0   3\n",
      "   0   0   0   0   0   0   0   0   0   0   0   0   6   0 102 204 176 134 144 123  23   0   0   0   0  12  10   0\n",
      "   0   0   0   0   0   0   0   0   0   0   0   0   0   0 155 236 207 178 107 156 161 109  64  23  77 130  72  15\n",
      "   0   0   0   0   0   0   0   0   0   0   0   1   0  69 207 223 218 216 216 163 127 121 122 146 141  88 172  66\n",
      "   0   0   0   0   0   0   0   0   0   1   1   1   0 200 232 232 233 229 223 223 215 213 164 127 123 196 229   0\n",
      "   0   0   0   0   0   0   0   0   0   0   0   0   0 183 225 216 223 228 235 227 224 222 224 221 223 245 173   0\n",
      "   0   0   0   0   0   0   0   0   0   0   0   0   0 193 228 218 213 198 180 212 210 211 213 223 220 243 202   0\n",
      "   0   0   0   0   0   0   0   0   0   1   3   0  12 219 220 212 218 192 169 227 208 218 224 212 226 197 209  52\n",
      "   0   0   0   0   0   0   0   0   0   0   6   0  99 244 222 220 218 203 198 221 215 213 222 220 245 119 167  56\n",
      "   0   0   0   0   0   0   0   0   0   4   0   0  55 236 228 230 228 240 232 213 218 223 234 217 217 209  92   0\n",
      "   0   0   1   4   6   7   2   0   0   0   0   0 237 226 217 223 222 219 222 221 216 223 229 215 218 255  77   0\n",
      "   0   3   0   0   0   0   0   0   0  62 145 204 228 207 213 221 218 208 211 218 224 223 219 215 224 244 159   0\n",
      "   0   0   0   0  18  44  82 107 189 228 220 222 217 226 200 205 211 230 224 234 176 188 250 248 233 238 215   0\n",
      "   0  57 187 208 224 221 224 208 204 214 208 209 200 159 245 193 206 223 255 255 221 234 221 211 220 232 246   0\n",
      "   3 202 228 224 221 211 211 214 205 205 205 220 240  80 150 255 229 221 188 154 191 210 204 209 222 228 225   0\n",
      "  98 233 198 210 222 229 229 234 249 220 194 215 217 241  65  73 106 117 168 219 221 215 217 223 223 224 229  29\n",
      "  75 204 212 204 193 205 211 225 216 185 197 206 198 213 240 195 227 245 239 223 218 212 209 222 220 221 230  67\n",
      "  48 203 183 194 213 197 185 190 194 192 202 214 219 221 220 236 225 216 199 206 186 181 177 172 181 205 206 115\n",
      "   0 122 219 193 179 171 183 196 204 210 213 207 211 210 200 196 194 191 195 191 198 192 176 156 167 177 210  92\n",
      "   0   0  74 189 212 191 175 172 175 181 185 188 189 188 193 198 204 209 210 210 211 188 188 194 192 216 170   0\n",
      "   2   0   0   0  66 200 222 237 239 242 246 243 244 221 220 193 191 179 182 182 181 176 166 168  99  58   0   0\n",
      "   0   0   0   0   0   0   0  40  61  44  72  41  35   0   0   0   0   0   0   0   0   0   0   0   0   0   0   0\n",
      "   0   0   0   0   0   0   0   0   0   0   0   0   0   0   0   0   0   0   0   0   0   0   0   0   0   0   0   0\n",
      "   0   0   0   0   0   0   0   0   0   0   0   0   0   0   0   0   0   0   0   0   0   0   0   0   0   0   0   0\n"
     ]
    }
   ],
   "source": [
    "image_matrix(x_train[0])"
   ]
  },
  {
   "cell_type": "markdown",
   "metadata": {},
   "source": [
    "Podemos Observar que el dataset no está normalizado, por ende se convertirá a una escala entre 0 y 1"
   ]
  },
  {
   "cell_type": "code",
   "execution_count": 8,
   "metadata": {},
   "outputs": [
    {
     "name": "stdout",
     "output_type": "stream",
     "text": [
      "x_train shape: (60000, 784) y_train shape: (60000, 10)\n",
      "x_test shape: (10000, 784) y_test shape: (10000, 10)\n"
     ]
    },
    {
     "data": {
      "text/plain": [
       "<matplotlib.image.AxesImage at 0x7f5ea0e63550>"
      ]
     },
     "execution_count": 8,
     "metadata": {},
     "output_type": "execute_result"
    },
    {
     "data": {
      "image/png": "[encoded data removed]",
      "text/plain": [
       "<Figure size 432x288 with 1 Axes>"
      ]
     },
     "metadata": {
      "needs_background": "light"
     },
     "output_type": "display_data"
    }
   ],
   "source": [
    "x_train = x_train.astype('float32') / 255\n",
    "x_test = x_test.astype('float32') / 255\n",
    "x_train = x_train.reshape([60000, 28*28])\n",
    "x_test = x_test.reshape([10000, 28*28])\n",
    "y_train = convert_labels(y_train)\n",
    "y_test = convert_labels(y_test)\n",
    "\n",
    "print(\"x_train shape:\", x_train.shape, \"y_train shape:\", y_train.shape)\n",
    "print(\"x_test shape:\", x_test.shape, \"y_test shape:\", y_test.shape)\n",
    "imagendemo=np.reshape(x_test[30,:],(28,28))\n",
    "plt.imshow(imagendemo,cmap='gray')"
   ]
  },
  {
   "cell_type": "markdown",
   "metadata": {
    "colab_type": "text",
    "id": "Fn5aH2NdjNai"
   },
   "source": [
    "Las etiquetas numéricas pueden ser transformadas al nombre de la clase correspondiente usando el siguiente diccionario "
   ]
  },
  {
   "cell_type": "code",
   "execution_count": 9,
   "metadata": {
    "colab": {},
    "colab_type": "code",
    "id": "spo3e07vjNaj"
   },
   "outputs": [],
   "source": [
    "label_dict = {\n",
    " 0: \"T-shirt/top\",\n",
    " 1: \"Trouser\",\n",
    " 2: \"Pullover\",\n",
    " 3: \"Dress\",\n",
    " 4: \"Coat\",\n",
    " 5: \"Sandal\",\n",
    " 6: \"Shirt\",\n",
    " 7: \"Sneaker\",\n",
    " 8: \"Bag\",\n",
    " 9: \"Ankle boot\"\n",
    "}"
   ]
  },
  {
   "cell_type": "code",
   "execution_count": 10,
   "metadata": {},
   "outputs": [],
   "source": [
    "def Neural_network_model(\n",
    "    keep_rate = 0.8,\n",
    "    n_classes=10,\n",
    "    lr = 0.001\n",
    "    ):\n",
    "    # Declarando las entradas y salidas\n",
    "    x=tf.placeholder('float',[None,784])\n",
    "    y=tf.placeholder('float')\n",
    "    \n",
    "    #Imagenes \n",
    "    img = tf.reshape(x, shape=[-1, 28, 28, 1])\n",
    "    # Declarando las variables \n",
    "    # tamKernel x tamKernel · profundidadKernel # numero de pixeles a compartir\n",
    "    weights = {'W_conv1':tf.Variable(tf.random_normal([5,5,1,32])),\n",
    "               'W_conv2':tf.Variable(tf.random_normal([5,5,32,64])),\n",
    "               'W_fc':tf.Variable(tf.random_normal([7*7*64,1024])),\n",
    "               'out':tf.Variable(tf.random_normal([1024, n_classes]))}\n",
    "\n",
    "    biases = {'b_conv1':tf.Variable(tf.random_normal([32])),\n",
    "               'b_conv2':tf.Variable(tf.random_normal([64])),\n",
    "               'b_fc':tf.Variable(tf.random_normal([1024])),\n",
    "               'out':tf.Variable(tf.random_normal([n_classes]))}\n",
    "   \n",
    "    \n",
    "    \n",
    "    # Declarando la arquitectura\n",
    "    \n",
    "    l1 = tf.nn.conv2d(img, weights['W_conv1'], strides=[1,1,1,1], padding='SAME')\n",
    "    l1 = tf.add(l1, biases['b_conv1'])\n",
    "    l1 = tf.nn.relu(l1)\n",
    "    l1 = tf.nn.max_pool(l1, ksize=[1,2,2,1], strides=[1,2,2,1], padding='SAME')\n",
    "    #14*14*32\n",
    "    \n",
    "    l2 = tf.nn.conv2d(l1, weights['W_conv2'], strides=[1,1,1,1], padding='SAME')\n",
    "    l2 = tf.add(l2, biases['b_conv2'])\n",
    "    l2 = tf.nn.relu(l2)\n",
    "    l2 = tf.nn.max_pool(l2, ksize=[1,2,2,1], strides=[1,2,2,1], padding='SAME')\n",
    "    #7*7*64\n",
    "    \n",
    "    fc = tf.reshape(l2,[-1, 7*7*64])\n",
    "    fc = tf.nn.relu(tf.matmul(fc, weights['W_fc'])+biases['b_fc'])\n",
    "    fc = tf.nn.dropout(fc, keep_rate)\n",
    "\n",
    "    output = tf.matmul(fc, weights['out'])+biases['out']\n",
    "\n",
    "    # Declarando la funcion de costo y entrenamiento\n",
    "    cost = tf.reduce_mean( tf.nn.softmax_cross_entropy_with_logits(logits=output\n",
    "                                                                   , labels=y) )\n",
    "    optimizer = tf.train.AdamOptimizer(lr).minimize(cost)\n",
    "    \n",
    "    return dict(\n",
    "              x=x,\n",
    "              y=y,\n",
    "              output=output,\n",
    "              cost=cost,\n",
    "              optimizer=optimizer\n",
    "              )\n"
   ]
  },
  {
   "cell_type": "code",
   "execution_count": 11,
   "metadata": {},
   "outputs": [
    {
     "name": "stdout",
     "output_type": "stream",
     "text": [
      "WARNING:tensorflow:From <ipython-input-10-073d27695fbf>:48: softmax_cross_entropy_with_logits (from tensorflow.python.ops.nn_ops) is deprecated and will be removed in a future version.\n",
      "Instructions for updating:\n",
      "\n",
      "Future major versions of TensorFlow will allow gradients to flow\n",
      "into the labels input on backprop by default.\n",
      "\n",
      "See `tf.nn.softmax_cross_entropy_with_logits_v2`.\n",
      "\n"
     ]
    },
    {
     "data": {
      "text/plain": [
       "{'x': <tf.Tensor 'Placeholder:0' shape=(?, 784) dtype=float32>,\n",
       " 'y': <tf.Tensor 'Placeholder_1:0' shape=<unknown> dtype=float32>,\n",
       " 'output': <tf.Tensor 'add_3:0' shape=(?, 10) dtype=float32>,\n",
       " 'cost': <tf.Tensor 'Mean:0' shape=() dtype=float32>,\n",
       " 'optimizer': <tf.Operation 'Adam' type=NoOp>}"
      ]
     },
     "execution_count": 11,
     "metadata": {},
     "output_type": "execute_result"
    }
   ],
   "source": [
    "Neural_network_model()"
   ]
  },
  {
   "cell_type": "code",
   "execution_count": 18,
   "metadata": {},
   "outputs": [],
   "source": [
    "def train_neural_network(DNN, hm_epochs=10, batch_size=100):\n",
    "    with tf.Session() as sess:\n",
    "        sess.run(tf.global_variables_initializer())\n",
    "\n",
    "        for epoch in range(hm_epochs):\n",
    "            \n",
    "            epoch_loss = 0\n",
    "            for current_batch in range(int(len(x_train) / batch_size)):\n",
    "                epoch_x = x_train[current_batch * batch_size : (current_batch + 1) * batch_size]\n",
    "                epoch_y = y_train[current_batch * batch_size : (current_batch + 1) * batch_size]\n",
    "                feed_dict={DNN[\"x\"]: epoch_x, \n",
    "                           DNN[\"y\"]: epoch_y}\n",
    "                _, c, prediction,y   = sess.run([DNN[\"optimizer\"], DNN[\"cost\"]\n",
    "                                                 , DNN[\"output\"], DNN[\"y\"]], \n",
    "                                                feed_dict=feed_dict)\n",
    "                epoch_loss += c\n",
    "\n",
    "            print('Epoch', epoch, 'completed out of',hm_epochs,'loss:',epoch_loss)\n",
    "            \n",
    "        correct = tf.equal(tf.argmax(prediction, 1), tf.argmax(y, 1))\n",
    "        accuracy = tf.reduce_mean(tf.cast(correct, 'float'))\n",
    "        print('Accuracy train:',accuracy.eval({DNN[\"x\"]:x_train, DNN[\"y\"]:y_train}))\n",
    "        #Prueba con datos nunca antes vistos  \n",
    "        prediction, y = sess.run([DNN[\"output\"], DNN[\"y\"]], feed_dict={DNN[\"x\"]:x_test, DNN[\"y\"]:y_test})\n",
    "        correct = tf.equal(tf.argmax(prediction, 1), tf.argmax(y, 1))\n",
    "        accuracy = tf.reduce_mean(tf.cast(correct, 'float'))\n",
    "        print('Accuracy test:', accuracy.eval())"
   ]
  },
  {
   "cell_type": "code",
   "execution_count": 36,
   "metadata": {},
   "outputs": [
    {
     "name": "stdout",
     "output_type": "stream",
     "text": [
      "Epoch 0 completed out of 30 loss: 1565696.8165740967\n",
      "Epoch 1 completed out of 30 loss: 146773.00427246094\n",
      "Epoch 2 completed out of 30 loss: 43565.56070804596\n",
      "Epoch 3 completed out of 30 loss: 12567.725660324097\n",
      "Epoch 4 completed out of 30 loss: 4920.836488485336\n",
      "Epoch 5 completed out of 30 loss: 2229.728025317192\n",
      "Epoch 6 completed out of 30 loss: 1252.9329141378403\n",
      "Epoch 7 completed out of 30 loss: 883.8183122873306\n",
      "Epoch 8 completed out of 30 loss: 748.4353168010712\n",
      "Epoch 9 completed out of 30 loss: 696.0574064254761\n",
      "Epoch 10 completed out of 30 loss: 650.3382838368416\n",
      "Epoch 11 completed out of 30 loss: 675.2806038856506\n",
      "Epoch 12 completed out of 30 loss: 627.4273849725723\n",
      "Epoch 13 completed out of 30 loss: 634.1438400745392\n",
      "Epoch 14 completed out of 30 loss: 649.3359035253525\n",
      "Epoch 15 completed out of 30 loss: 708.6139975190163\n",
      "Epoch 16 completed out of 30 loss: 611.611537694931\n",
      "Epoch 17 completed out of 30 loss: 607.1092980504036\n",
      "Epoch 18 completed out of 30 loss: 595.8462795615196\n",
      "Epoch 19 completed out of 30 loss: 617.1970943212509\n",
      "Epoch 20 completed out of 30 loss: 592.2744454145432\n",
      "Epoch 21 completed out of 30 loss: 554.2078226208687\n",
      "Epoch 22 completed out of 30 loss: 643.689789712429\n",
      "Epoch 23 completed out of 30 loss: 632.3552980422974\n",
      "Epoch 24 completed out of 30 loss: 563.4258493185043\n",
      "Epoch 25 completed out of 30 loss: 653.9559440612793\n",
      "Epoch 26 completed out of 30 loss: 562.0576549768448\n",
      "Epoch 27 completed out of 30 loss: 592.8452727794647\n",
      "Epoch 28 completed out of 30 loss: 615.1401713490486\n",
      "Epoch 29 completed out of 30 loss: 598.545494556427\n",
      "Accuracy train: 0.63\n",
      "Accuracy test: 0.6454\n"
     ]
    }
   ],
   "source": [
    "DNN=Neural_network_model(lr = 0.003)\n",
    "train_neural_network(DNN, hm_epochs=30, batch_size=100)\n",
    "# Accuracy: 0.8715\n",
    "\n",
    "#Accuracy train: 0.8875\n",
    "#Accuracy test: 0.8448"
   ]
  },
  {
   "cell_type": "code",
   "execution_count": null,
   "metadata": {},
   "outputs": [],
   "source": []
  }
 ],
 "metadata": {
  "colab": {
   "name": "Copia de Tarea de la red_Vanilla .ipynb",
   "provenance": [
    {
     "file_id": "1qHsAJyy4hyxUpe5Cwur9SIaFQqwGE6dw",
     "timestamp": 1552492644430
    }
   ],
   "version": "0.3.2"
  },
  "kernelspec": {
   "display_name": "ANN",
   "language": "python",
   "name": "ann"
  },
  "language_info": {
   "codemirror_mode": {
    "name": "ipython",
    "version": 3
   },
   "file_extension": ".py",
   "mimetype": "text/x-python",
   "name": "python",
   "nbconvert_exporter": "python",
   "pygments_lexer": "ipython3",
   "version": "3.6.8"
  }
 },
 "nbformat": 4,
 "nbformat_minor": 1
}
