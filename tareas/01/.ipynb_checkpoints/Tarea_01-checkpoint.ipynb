{
 "cells": [
  {
   "cell_type": "markdown",
   "metadata": {},
   "source": [
    "# Python Crash Course Exercises \n",
    "\n"
   ]
  },
  {
   "cell_type": "markdown",
   "metadata": {},
   "source": [
    "## Ejercicios 01 - DeepDaemon - Junio 2018\n",
    "\n",
    "Contesta las siguientes preguntas o completa las tareas marcadas en negritas que se presentan a continuación, utiliza el método especificado cuando se indique.\n"
   ]
  },
  {
   "cell_type": "markdown",
   "metadata": {},
   "source": [
    "** ¿Cuánto es 8 elevado a la 5?**"
   ]
  },
  {
   "cell_type": "code",
   "execution_count": 1,
   "metadata": {},
   "outputs": [
    {
     "data": {
      "text/plain": [
       "32768"
      ]
     },
     "execution_count": 1,
     "metadata": {},
     "output_type": "execute_result"
    }
   ],
   "source": [
    "8**5"
   ]
  },
  {
   "cell_type": "markdown",
   "metadata": {},
   "source": [
    "** Separa la siguiente cadena:**\n",
    "\n",
    "    s = \"¡Estoy en el curso de Ford!\"\n",
    "    \n",
    "**en una lista. **"
   ]
  },
  {
   "cell_type": "code",
   "execution_count": 3,
   "metadata": {},
   "outputs": [],
   "source": [
    "s = \"¡Estoy en el curso de Ford!\""
   ]
  },
  {
   "cell_type": "code",
   "execution_count": 4,
   "metadata": {},
   "outputs": [
    {
     "data": {
      "text/plain": [
       "['¡Estoy', 'en', 'el', 'curso', 'de', 'Ford!']"
      ]
     },
     "execution_count": 4,
     "metadata": {},
     "output_type": "execute_result"
    }
   ],
   "source": [
    "s.split()"
   ]
  },
  {
   "cell_type": "markdown",
   "metadata": {},
   "source": [
    "** Dadas las siguientes variables:**\n",
    "\n",
    "    planeta = \"Tierra\"\n",
    "    diametro = 12742\n",
    "\n",
    "** Use .format() para imprimir el la siguiente cadena: **\n",
    "\n",
    "    El diámetro de la Tierra es 12742 kilometros."
   ]
  },
  {
   "cell_type": "code",
   "execution_count": 6,
   "metadata": {},
   "outputs": [],
   "source": [
    "planeta = \"Tierra\"\n",
    "diametro = \"12742\""
   ]
  },
  {
   "cell_type": "code",
   "execution_count": 10,
   "metadata": {},
   "outputs": [
    {
     "data": {
      "text/plain": [
       "'El diámetro de la Tierra es 12742 kilometros.'"
      ]
     },
     "execution_count": 10,
     "metadata": {},
     "output_type": "execute_result"
    }
   ],
   "source": [
    "\"El diámetro de la {name} es {diameter} kilometros.\".format(name=planeta, diameter=diametro)"
   ]
  },
  {
   "cell_type": "markdown",
   "metadata": {},
   "source": [
    "** Dada la siguiente lista anidada, utilice el indexado para extraer la palabra \"hola\" **"
   ]
  },
  {
   "cell_type": "code",
   "execution_count": 12,
   "metadata": {},
   "outputs": [],
   "source": [
    "lst = [1,2,[3,4],[5,[100,200,['hola']],23,11],1,7]"
   ]
  },
  {
   "cell_type": "code",
   "execution_count": 19,
   "metadata": {},
   "outputs": [
    {
     "data": {
      "text/plain": [
       "'hola'"
      ]
     },
     "execution_count": 19,
     "metadata": {},
     "output_type": "execute_result"
    }
   ],
   "source": [
    "lst[3][1][-1][0]"
   ]
  },
  {
   "cell_type": "markdown",
   "metadata": {},
   "source": [
    "** Dado el siguiente diccionario aninado obtenga la palabra \"hola\". Este preparado, este ejecicio será molesto/difícil **"
   ]
  },
  {
   "cell_type": "code",
   "execution_count": 20,
   "metadata": {},
   "outputs": [],
   "source": [
    "d = {'k1':[1,2,3,{'dificíl':['oh','hombre','principio',{'objetivo':[1,2,3,'hola']}]}]}"
   ]
  },
  {
   "cell_type": "code",
   "execution_count": 26,
   "metadata": {},
   "outputs": [
    {
     "data": {
      "text/plain": [
       "'hola'"
      ]
     },
     "execution_count": 26,
     "metadata": {},
     "output_type": "execute_result"
    }
   ],
   "source": [
    "d['k1'][-1]['dificíl'][-1]['objetivo'][-1]"
   ]
  },
  {
   "cell_type": "markdown",
   "metadata": {},
   "source": [
    "** ¿Cuál es la principal diferencia entre tupla y lista? **"
   ]
  },
  {
   "cell_type": "code",
   "execution_count": 45,
   "metadata": {
    "collapsed": true
   },
   "outputs": [],
   "source": [
    "# La tupla es inmutable"
   ]
  },
  {
   "cell_type": "markdown",
   "metadata": {},
   "source": [
    "** Escriba una función que capture el dominio del sitio web del correo electrónico a partir de una cadena con el siguiente formato: **\n",
    "\n",
    "    usuario@dominio.com\n",
    "    \n",
    "**Como ejemplo, del correo \"usuario@dominio.com\" deberá regresar: dominio.com**"
   ]
  },
  {
   "cell_type": "code",
   "execution_count": 35,
   "metadata": {},
   "outputs": [],
   "source": [
    "def domainGet(text):\n",
    "    return text.split('@')[-1]"
   ]
  },
  {
   "cell_type": "code",
   "execution_count": 36,
   "metadata": {},
   "outputs": [
    {
     "data": {
      "text/plain": [
       "'domino.com'"
      ]
     },
     "execution_count": 36,
     "metadata": {},
     "output_type": "execute_result"
    }
   ],
   "source": [
    "domainGet('usuario@domino.com')"
   ]
  },
  {
   "cell_type": "markdown",
   "metadata": {},
   "source": [
    "** Cree una función básica que devuelva Verdadero si la palabra 'perro' está contenida en la cadena de entrada. No se preocupe por los casos donde al final se adjunta alguna puntuación a la palabra perro, pero tome en cuenta las mayúsculas. **"
   ]
  },
  {
   "cell_type": "code",
   "execution_count": 32,
   "metadata": {},
   "outputs": [],
   "source": [
    "def findDog(text):\n",
    "    return text.lower().find('perro') != -1\n",
    "        "
   ]
  },
  {
   "cell_type": "code",
   "execution_count": 33,
   "metadata": {},
   "outputs": [
    {
     "data": {
      "text/plain": [
       "True"
      ]
     },
     "execution_count": 33,
     "metadata": {},
     "output_type": "execute_result"
    }
   ],
   "source": [
    "findDog('Hay un perro aquí?')"
   ]
  },
  {
   "cell_type": "markdown",
   "metadata": {},
   "source": [
    "** Crea una función que cuente la cantidad de veces que aparece la palabra \"perro\" en una cadena. Nuevamente ignore los casos donde al final se adjunta alguna puntuación. **"
   ]
  },
  {
   "cell_type": "code",
   "execution_count": 37,
   "metadata": {},
   "outputs": [],
   "source": [
    "def countDog(text):\n",
    "    return text.lower().count('perro')\n",
    "    "
   ]
  },
  {
   "cell_type": "code",
   "execution_count": 38,
   "metadata": {},
   "outputs": [
    {
     "data": {
      "text/plain": [
       "2"
      ]
     },
     "execution_count": 38,
     "metadata": {},
     "output_type": "execute_result"
    }
   ],
   "source": [
    "countDog('Este perro corre más rápido que el otro perro amigo!')"
   ]
  },
  {
   "cell_type": "markdown",
   "metadata": {},
   "source": [
    "** Use expresiones lambda y la funcón filter() para filtrar de una lista aquellas palabras que no comiencen con la letra 's'. Por ejemplo:**\n",
    "\n",
    "    seq = ['sopa','perro','sierra','gato','estupendo']\n",
    "\n",
    "**should be filtered down to:**\n",
    "\n",
    "    ['sopa','sierra']"
   ]
  },
  {
   "cell_type": "code",
   "execution_count": 39,
   "metadata": {},
   "outputs": [],
   "source": [
    "seq = ['sopa','perro','sierra','gato','estupendo']"
   ]
  },
  {
   "cell_type": "code",
   "execution_count": 41,
   "metadata": {},
   "outputs": [
    {
     "data": {
      "text/plain": [
       "['sopa', 'sierra']"
      ]
     },
     "execution_count": 41,
     "metadata": {},
     "output_type": "execute_result"
    }
   ],
   "source": [
    "list(filter(lambda item : item.startswith('s'), seq))"
   ]
  },
  {
   "cell_type": "markdown",
   "metadata": {},
   "source": [
    "### Problema final\n",
    "** Estás manejado y un policia te detiene. Escribe una función que regrese uno de los siguientes tres valores: \"Sin multa\", \"Multa pequeña\" o \"Multa grande\". Si tú velocidad es de 50 km o menor, el resultado será \"Sin multa\". Si tú velocidad está entre 51 km y 80 km, el resultado será \"Multa pequeña\". Si tú velocidad es de 81 km o mayor, el resultado será \"Multa grande\". Esto se cumplirá al menos que sea el día de tú cumpleaños (que será codificado como un valor booleano en los parámetros de la función) -- en tu cumpleaños tienes permitido que tú velocidad sea 5 km mayor en todos los casos. **"
   ]
  },
  {
   "cell_type": "code",
   "execution_count": 5,
   "metadata": {},
   "outputs": [],
   "source": [
    "def caught_speeding(velocidad, es_mi_cumpleaños):\n",
    "    velocidad = velocidad - 5 if es_mi_cumpleaños else velocidad\n",
    "    if (velocidad >= 81):\n",
    "        return \"Multa Grande\"\n",
    "    elif (velocidad >= 51 or velocidad <= 80):\n",
    "        return \"Multa pequeña\"\n",
    "    else:\n",
    "        return \"Sin multa\""
   ]
  },
  {
   "cell_type": "code",
   "execution_count": 6,
   "metadata": {},
   "outputs": [
    {
     "data": {
      "text/plain": [
       "'Multa pequeña'"
      ]
     },
     "execution_count": 6,
     "metadata": {},
     "output_type": "execute_result"
    }
   ],
   "source": [
    "caught_speeding(81,True)"
   ]
  },
  {
   "cell_type": "code",
   "execution_count": 7,
   "metadata": {},
   "outputs": [
    {
     "data": {
      "text/plain": [
       "'Multa Grande'"
      ]
     },
     "execution_count": 7,
     "metadata": {},
     "output_type": "execute_result"
    }
   ],
   "source": [
    "caught_speeding(81,False)"
   ]
  },
  {
   "cell_type": "markdown",
   "metadata": {},
   "source": [
    "# ¡Excelente trabajo!"
   ]
  },
  {
   "cell_type": "code",
   "execution_count": 8,
   "metadata": {},
   "outputs": [],
   "source": [
    "# Excelente clase!"
   ]
  }
 ],
 "metadata": {
  "kernelspec": {
   "display_name": "ANN",
   "language": "python",
   "name": "ann"
  },
  "language_info": {
   "codemirror_mode": {
    "name": "ipython",
    "version": 3
   },
   "file_extension": ".py",
   "mimetype": "text/x-python",
   "name": "python",
   "nbconvert_exporter": "python",
   "pygments_lexer": "ipython3",
   "version": "3.6.8"
  }
 },
 "nbformat": 4,
 "nbformat_minor": 1
}
