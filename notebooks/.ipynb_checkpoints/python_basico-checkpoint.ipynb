{
 "cells": [
  {
   "cell_type": "code",
   "execution_count": 9,
   "metadata": {},
   "outputs": [
    {
     "name": "stdout",
     "output_type": "stream",
     "text": [
      "Hola me llamo JORGE\n",
      "Hola me llamo JORGE\n"
     ]
    }
   ],
   "source": [
    "name = \"Jorge\".upper()\n",
    "print(f\"Hola me llamo {name}\")\n",
    "print (\"Hola me llamo %s\" % name)\n",
    "cadena_larga = (\"esta es una cadena bien piche larga alv\"\n",
    "                ':vvvvvvvvvvvvvvvvvvvvvvvvvvvvvvvvvv' )\n",
    "type(tuple())\n",
    "import numpy as np\n",
    "cosa = [ np, \"jhola\"]"
   ]
  },
  {
   "cell_type": "code",
   "execution_count": null,
   "metadata": {},
   "outputs": [],
   "source": []
  }
 ],
 "metadata": {
  "kernelspec": {
   "display_name": "ANN",
   "language": "python",
   "name": "ann"
  },
  "language_info": {
   "codemirror_mode": {
    "name": "ipython",
    "version": 3
   },
   "file_extension": ".py",
   "mimetype": "text/x-python",
   "name": "python",
   "nbconvert_exporter": "python",
   "pygments_lexer": "ipython3",
   "version": "3.6.8"
  }
 },
 "nbformat": 4,
 "nbformat_minor": 2
}
