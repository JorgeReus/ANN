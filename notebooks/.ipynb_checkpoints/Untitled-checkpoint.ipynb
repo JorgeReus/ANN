{
 "cells": [
  {
   "cell_type": "code",
   "execution_count": 1,
   "metadata": {},
   "outputs": [
    {
     "name": "stderr",
     "output_type": "stream",
     "text": [
      "Using TensorFlow backend.\n"
     ]
    }
   ],
   "source": [
    "import keras\n",
    "from keras.datasets import mnist\n",
    "from keras.models import Sequential\n",
    "from keras.layers import Dense, Dropout\n",
    "from keras.layers import Flatten,  MaxPooling2D, Conv2D\n",
    "from keras.callbacks import TensorBoard\n",
    "\n",
    "(X_train,y_train), (X_test, y_test) = mnist.load_data()\n",
    "\n",
    "X_train = X_train.reshape(60000,28,28,1).astype('float32')\n",
    "X_test = X_test.reshape(10000,28,28,1).astype('float32')\n",
    "\n",
    "X_train /= 255\n",
    "X_test /= 255\n",
    "\n",
    "n_classes = 10\n",
    "y_train = keras.utils.to_categorical(y_train, n_classes)\n",
    "y_test = keras.utils.to_categorical(y_test, n_classes)\n",
    "model = Sequential()\n",
    "model.add(Conv2D(32, kernel_size=(3,3), activation='relu', input_shape=(28,28,1)) )\n",
    "model.add(Conv2D(64, kernel_size=(3,3), activation='relu'))\n",
    "model.add(MaxPooling2D(pool_size=(2,2)))\n",
    "model.add(Dropout(0.25))\n",
    "model.add(Flatten())          \n",
    "model.add(Dense(128, activation='relu'))\n",
    "model.add(Dropout(0.5))\n",
    "model.add(Dense(n_classes, activation='softmax'))\n",
    "model.compile(loss='categorical_crossentropy', optimizer='adam', metrics=['accuracy'])"
   ]
  },
  {
   "cell_type": "code",
   "execution_count": 2,
   "metadata": {},
   "outputs": [
    {
     "name": "stdout",
     "output_type": "stream",
     "text": [
      "Train on 60000 samples, validate on 10000 samples\n",
      "Epoch 1/15\n",
      "60000/60000 [==============================] - 8s 138us/step - loss: 0.2340 - acc: 0.9285 - val_loss: 0.0597 - val_acc: 0.9812\n",
      "Epoch 2/15\n",
      "60000/60000 [==============================] - 4s 60us/step - loss: 0.0830 - acc: 0.9754 - val_loss: 0.0381 - val_acc: 0.9875\n",
      "Epoch 3/15\n",
      "60000/60000 [==============================] - 4s 59us/step - loss: 0.0638 - acc: 0.9809 - val_loss: 0.0349 - val_acc: 0.9885\n",
      "Epoch 4/15\n",
      "60000/60000 [==============================] - 4s 60us/step - loss: 0.0488 - acc: 0.9857 - val_loss: 0.0315 - val_acc: 0.9900\n",
      "Epoch 5/15\n",
      "60000/60000 [==============================] - 4s 62us/step - loss: 0.0439 - acc: 0.9863 - val_loss: 0.0295 - val_acc: 0.9906\n",
      "Epoch 6/15\n",
      "60000/60000 [==============================] - 4s 61us/step - loss: 0.0374 - acc: 0.9882 - val_loss: 0.0319 - val_acc: 0.9903\n",
      "Epoch 7/15\n",
      "60000/60000 [==============================] - 4s 60us/step - loss: 0.0342 - acc: 0.9892 - val_loss: 0.0323 - val_acc: 0.9896\n",
      "Epoch 8/15\n",
      "60000/60000 [==============================] - 4s 60us/step - loss: 0.0286 - acc: 0.9905 - val_loss: 0.0298 - val_acc: 0.9913\n",
      "Epoch 9/15\n",
      "60000/60000 [==============================] - 4s 61us/step - loss: 0.0272 - acc: 0.9913 - val_loss: 0.0291 - val_acc: 0.9912\n",
      "Epoch 10/15\n",
      "60000/60000 [==============================] - 4s 64us/step - loss: 0.0247 - acc: 0.9915 - val_loss: 0.0278 - val_acc: 0.9920\n",
      "Epoch 11/15\n",
      "60000/60000 [==============================] - 4s 63us/step - loss: 0.0215 - acc: 0.9928 - val_loss: 0.0279 - val_acc: 0.9910\n",
      "Epoch 12/15\n",
      "60000/60000 [==============================] - 4s 60us/step - loss: 0.0208 - acc: 0.9932 - val_loss: 0.0274 - val_acc: 0.9927\n",
      "Epoch 13/15\n",
      "60000/60000 [==============================] - 4s 62us/step - loss: 0.0197 - acc: 0.9932 - val_loss: 0.0317 - val_acc: 0.9921\n",
      "Epoch 14/15\n",
      "60000/60000 [==============================] - 4s 60us/step - loss: 0.0175 - acc: 0.9946 - val_loss: 0.0320 - val_acc: 0.9921\n",
      "Epoch 15/15\n",
      "60000/60000 [==============================] - 4s 62us/step - loss: 0.0169 - acc: 0.9948 - val_loss: 0.0280 - val_acc: 0.9934\n"
     ]
    },
    {
     "data": {
      "text/plain": [
       "<keras.callbacks.History at 0x7f4ec02bd320>"
      ]
     },
     "execution_count": 2,
     "metadata": {},
     "output_type": "execute_result"
    }
   ],
   "source": [
    "tensor_board = TensorBoard('./logs/LeNet-MNIST-1')\n",
    "model.fit(X_train, y_train, batch_size=128, epochs=15, verbose=1,\n",
    "          validation_data=(X_test,y_test), callbacks=[tensor_board])"
   ]
  }
 ],
 "metadata": {
  "kernelspec": {
   "display_name": "ANN",
   "language": "python",
   "name": "ann"
  },
  "language_info": {
   "codemirror_mode": {
    "name": "ipython",
    "version": 3
   },
   "file_extension": ".py",
   "mimetype": "text/x-python",
   "name": "python",
   "nbconvert_exporter": "python",
   "pygments_lexer": "ipython3",
   "version": "3.6.8"
  }
 },
 "nbformat": 4,
 "nbformat_minor": 2
}
