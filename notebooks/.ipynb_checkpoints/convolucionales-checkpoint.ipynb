{
 "cells": [
  {
   "cell_type": "markdown",
   "metadata": {
    "colab_type": "text",
    "id": "no15HlrVN74A"
   },
   "source": [
    "### Importación de Tensorflow"
   ]
  },
  {
   "cell_type": "code",
   "execution_count": 0,
   "metadata": {
    "colab": {},
    "colab_type": "code",
    "id": "YxpqPv8PN74B"
   },
   "outputs": [],
   "source": [
    "import tensorflow as tf\n",
    "import numpy as np\n",
    "import matplotlib.pyplot as plt\n",
    "%matplotlib inline"
   ]
  },
  {
   "cell_type": "markdown",
   "metadata": {
    "colab_type": "text",
    "id": "ZzmnKDF1N74E"
   },
   "source": [
    "### Importación de datos "
   ]
  },
  {
   "cell_type": "code",
   "execution_count": 2,
   "metadata": {
    "colab": {
     "base_uri": "https://localhost:8080/",
     "height": 534
    },
    "colab_type": "code",
    "executionInfo": {
     "elapsed": 9888,
     "status": "ok",
     "timestamp": 1553539560829,
     "user": {
      "displayName": "Carlos Duchanoy",
      "photoUrl": "https://lh6.googleusercontent.com/-gXwhi5Xb2vo/AAAAAAAAAAI/AAAAAAAAA2c/j3TkLhebLOo/s64/photo.jpg",
      "userId": "06916579791066221601"
     },
     "user_tz": 360
    },
    "id": "7WEGuQHzN74F",
    "outputId": "aa21b967-14f6-45c7-cb9f-d7131d61c8aa"
   },
   "outputs": [
    {
     "name": "stdout",
     "output_type": "stream",
     "text": [
      "WARNING:tensorflow:From <ipython-input-2-ce8afb69b99e>:2: read_data_sets (from tensorflow.contrib.learn.python.learn.datasets.mnist) is deprecated and will be removed in a future version.\n",
      "Instructions for updating:\n",
      "Please use alternatives such as official/mnist/dataset.py from tensorflow/models.\n",
      "WARNING:tensorflow:From /usr/local/lib/python3.6/dist-packages/tensorflow/contrib/learn/python/learn/datasets/mnist.py:260: maybe_download (from tensorflow.contrib.learn.python.learn.datasets.base) is deprecated and will be removed in a future version.\n",
      "Instructions for updating:\n",
      "Please write your own downloading logic.\n",
      "WARNING:tensorflow:From /usr/local/lib/python3.6/dist-packages/tensorflow/contrib/learn/python/learn/datasets/base.py:252: _internal_retry.<locals>.wrap.<locals>.wrapped_fn (from tensorflow.contrib.learn.python.learn.datasets.base) is deprecated and will be removed in a future version.\n",
      "Instructions for updating:\n",
      "Please use urllib or similar directly.\n",
      "Successfully downloaded train-images-idx3-ubyte.gz 9912422 bytes.\n",
      "WARNING:tensorflow:From /usr/local/lib/python3.6/dist-packages/tensorflow/contrib/learn/python/learn/datasets/mnist.py:262: extract_images (from tensorflow.contrib.learn.python.learn.datasets.mnist) is deprecated and will be removed in a future version.\n",
      "Instructions for updating:\n",
      "Please use tf.data to implement this functionality.\n",
      "Extracting input/data/train-images-idx3-ubyte.gz\n",
      "Successfully downloaded train-labels-idx1-ubyte.gz 28881 bytes.\n",
      "WARNING:tensorflow:From /usr/local/lib/python3.6/dist-packages/tensorflow/contrib/learn/python/learn/datasets/mnist.py:267: extract_labels (from tensorflow.contrib.learn.python.learn.datasets.mnist) is deprecated and will be removed in a future version.\n",
      "Instructions for updating:\n",
      "Please use tf.data to implement this functionality.\n",
      "Extracting input/data/train-labels-idx1-ubyte.gz\n",
      "WARNING:tensorflow:From /usr/local/lib/python3.6/dist-packages/tensorflow/contrib/learn/python/learn/datasets/mnist.py:110: dense_to_one_hot (from tensorflow.contrib.learn.python.learn.datasets.mnist) is deprecated and will be removed in a future version.\n",
      "Instructions for updating:\n",
      "Please use tf.one_hot on tensors.\n",
      "Successfully downloaded t10k-images-idx3-ubyte.gz 1648877 bytes.\n",
      "Extracting input/data/t10k-images-idx3-ubyte.gz\n",
      "Successfully downloaded t10k-labels-idx1-ubyte.gz 4542 bytes.\n",
      "Extracting input/data/t10k-labels-idx1-ubyte.gz\n",
      "WARNING:tensorflow:From /usr/local/lib/python3.6/dist-packages/tensorflow/contrib/learn/python/learn/datasets/mnist.py:290: DataSet.__init__ (from tensorflow.contrib.learn.python.learn.datasets.mnist) is deprecated and will be removed in a future version.\n",
      "Instructions for updating:\n",
      "Please use alternatives such as official/mnist/dataset.py from tensorflow/models.\n"
     ]
    }
   ],
   "source": [
    "from tensorflow.examples.tutorials.mnist import input_data\n",
    "mnist = input_data.read_data_sets(\"input/data/\", one_hot = True)"
   ]
  },
  {
   "cell_type": "markdown",
   "metadata": {
    "colab_type": "text",
    "id": "1TV-Nfg0N74K"
   },
   "source": [
    "### verificando los datos de prueba"
   ]
  },
  {
   "cell_type": "code",
   "execution_count": 3,
   "metadata": {
    "colab": {
     "base_uri": "https://localhost:8080/",
     "height": 34
    },
    "colab_type": "code",
    "executionInfo": {
     "elapsed": 9871,
     "status": "ok",
     "timestamp": 1553539560831,
     "user": {
      "displayName": "Carlos Duchanoy",
      "photoUrl": "https://lh6.googleusercontent.com/-gXwhi5Xb2vo/AAAAAAAAAAI/AAAAAAAAA2c/j3TkLhebLOo/s64/photo.jpg",
      "userId": "06916579791066221601"
     },
     "user_tz": 360
    },
    "id": "udNyagobN74L",
    "outputId": "c7801fc1-8a08-42fd-c86c-0a2545a66607"
   },
   "outputs": [
    {
     "data": {
      "text/plain": [
       "(55000, 784)"
      ]
     },
     "execution_count": 3,
     "metadata": {
      "tags": []
     },
     "output_type": "execute_result"
    }
   ],
   "source": [
    "mnist.train.images.shape"
   ]
  },
  {
   "cell_type": "code",
   "execution_count": 0,
   "metadata": {
    "colab": {},
    "colab_type": "code",
    "id": "-gSCC-PjN74P"
   },
   "outputs": [],
   "source": [
    "imagendemo=np.reshape(mnist.train.images[2,:],(28,28))"
   ]
  },
  {
   "cell_type": "code",
   "execution_count": 5,
   "metadata": {
    "colab": {
     "base_uri": "https://localhost:8080/",
     "height": 282
    },
    "colab_type": "code",
    "executionInfo": {
     "elapsed": 9851,
     "status": "ok",
     "timestamp": 1553539560838,
     "user": {
      "displayName": "Carlos Duchanoy",
      "photoUrl": "https://lh6.googleusercontent.com/-gXwhi5Xb2vo/AAAAAAAAAAI/AAAAAAAAA2c/j3TkLhebLOo/s64/photo.jpg",
      "userId": "06916579791066221601"
     },
     "user_tz": 360
    },
    "id": "-EdsFGZNN74S",
    "outputId": "5357b8d3-fb56-4eaa-c781-3d78c2aab405"
   },
   "outputs": [
    {
     "data": {
      "text/plain": [
       "<matplotlib.image.AxesImage at 0x7f493a5fab38>"
      ]
     },
     "execution_count": 5,
     "metadata": {
      "tags": []
     },
     "output_type": "execute_result"
    },
    {
     "data": {
      "image/png": "[encoded data removed]",
      "text/plain": [
       "<Figure size 432x288 with 1 Axes>"
      ]
     },
     "metadata": {
      "tags": []
     },
     "output_type": "display_data"
    }
   ],
   "source": [
    "plt.imshow(imagendemo,cmap='gray')"
   ]
  },
  {
   "cell_type": "markdown",
   "metadata": {
    "colab_type": "text",
    "id": "8GVvt8kCN74V"
   },
   "source": [
    "### Declarando la arquitectura\n",
    "\n",
    "Generando función "
   ]
  },
  {
   "cell_type": "code",
   "execution_count": 0,
   "metadata": {
    "colab": {},
    "colab_type": "code",
    "id": "l-VpFXQpN74V"
   },
   "outputs": [],
   "source": [
    "def Neural_network_model(\n",
    "    n_nodes_hl1=500,\n",
    "    n_nodes_hl2=500,\n",
    "    n_nodes_hl3=500,\n",
    "    keep_rate = 0.8,\n",
    "    n_classes=10\n",
    "    ):\n",
    "    # Declarando las entradas y salidas\n",
    "    x=tf.placeholder('float',[None,784])\n",
    "    y=tf.placeholder('float')\n",
    "    \n",
    "    #Imagenes \n",
    "    img = tf.reshape(x, shape=[-1, 28, 28, 1])\n",
    "    # Declarando las variables \n",
    "    weights = {'W_conv1':tf.Variable(tf.random_normal([5,5,1,32])),\n",
    "               'W_conv2':tf.Variable(tf.random_normal([5,5,32,64])),\n",
    "               'W_fc':tf.Variable(tf.random_normal([7*7*64,1024])),\n",
    "               'out':tf.Variable(tf.random_normal([1024, n_classes]))}\n",
    "\n",
    "    biases = {'b_conv1':tf.Variable(tf.random_normal([32])),\n",
    "               'b_conv2':tf.Variable(tf.random_normal([64])),\n",
    "               'b_fc':tf.Variable(tf.random_normal([1024])),\n",
    "               'out':tf.Variable(tf.random_normal([n_classes]))}\n",
    "   \n",
    "    \n",
    "    \n",
    "    # Declarando la arquitectura\n",
    "    \n",
    "    l1 = tf.nn.conv2d(img, weights['W_conv1'], strides=[1,1,1,1], padding='SAME')\n",
    "    l1 = tf.add(l1, biases['b_conv1'])\n",
    "    l1 = tf.nn.relu(l1)\n",
    "    l1 = tf.nn.max_pool(l1, ksize=[1,2,2,1], strides=[1,2,2,1], padding='SAME')\n",
    "    #14*14*32\n",
    "    \n",
    "    l2 = tf.nn.conv2d(l1, weights['W_conv2'], strides=[1,1,1,1], padding='SAME')\n",
    "    l2 = tf.add(l2, biases['b_conv2'])\n",
    "    l2 = tf.nn.relu(l2)\n",
    "    l2 = tf.nn.max_pool(l2, ksize=[1,2,2,1], strides=[1,2,2,1], padding='SAME')\n",
    "    #7*7*64\n",
    "    \n",
    "    fc = tf.reshape(l2,[-1, 7*7*64])\n",
    "    fc = tf.nn.relu(tf.matmul(fc, weights['W_fc'])+biases['b_fc'])\n",
    "    fc = tf.nn.dropout(fc, keep_rate)\n",
    "\n",
    "    output = tf.matmul(fc, weights['out'])+biases['out']\n",
    "\n",
    "    # Declarando la funcion de costo y entrenamiento\n",
    "    cost = tf.reduce_mean( tf.nn.softmax_cross_entropy_with_logits(logits=output\n",
    "                                                                   , labels=y) )\n",
    "    optimizer = tf.train.AdamOptimizer().minimize(cost)\n",
    "    \n",
    "    return dict(\n",
    "              x=x,\n",
    "              y=y,\n",
    "              output=output,\n",
    "              cost=cost,\n",
    "              optimizer=optimizer\n",
    "              )"
   ]
  },
  {
   "cell_type": "code",
   "execution_count": 7,
   "metadata": {
    "colab": {
     "base_uri": "https://localhost:8080/",
     "height": 363
    },
    "colab_type": "code",
    "executionInfo": {
     "elapsed": 10456,
     "status": "ok",
     "timestamp": 1553539561892,
     "user": {
      "displayName": "Carlos Duchanoy",
      "photoUrl": "https://lh6.googleusercontent.com/-gXwhi5Xb2vo/AAAAAAAAAAI/AAAAAAAAA2c/j3TkLhebLOo/s64/photo.jpg",
      "userId": "06916579791066221601"
     },
     "user_tz": 360
    },
    "id": "VkLMpEfiN74Y",
    "outputId": "8ad7b88d-4979-4231-bfc6-f08e91dc7f7a"
   },
   "outputs": [
    {
     "name": "stdout",
     "output_type": "stream",
     "text": [
      "WARNING:tensorflow:From /usr/local/lib/python3.6/dist-packages/tensorflow/python/framework/op_def_library.py:263: colocate_with (from tensorflow.python.framework.ops) is deprecated and will be removed in a future version.\n",
      "Instructions for updating:\n",
      "Colocations handled automatically by placer.\n",
      "WARNING:tensorflow:From <ipython-input-6-e758bb26ba0d>:43: calling dropout (from tensorflow.python.ops.nn_ops) with keep_prob is deprecated and will be removed in a future version.\n",
      "Instructions for updating:\n",
      "Please use `rate` instead of `keep_prob`. Rate should be set to `rate = 1 - keep_prob`.\n",
      "WARNING:tensorflow:From <ipython-input-6-e758bb26ba0d>:49: softmax_cross_entropy_with_logits (from tensorflow.python.ops.nn_ops) is deprecated and will be removed in a future version.\n",
      "Instructions for updating:\n",
      "\n",
      "Future major versions of TensorFlow will allow gradients to flow\n",
      "into the labels input on backprop by default.\n",
      "\n",
      "See `tf.nn.softmax_cross_entropy_with_logits_v2`.\n",
      "\n"
     ]
    },
    {
     "data": {
      "text/plain": [
       "{'cost': <tf.Tensor 'Mean:0' shape=() dtype=float32>,\n",
       " 'optimizer': <tf.Operation 'Adam' type=NoOp>,\n",
       " 'output': <tf.Tensor 'add_3:0' shape=(?, 10) dtype=float32>,\n",
       " 'x': <tf.Tensor 'Placeholder:0' shape=(?, 784) dtype=float32>,\n",
       " 'y': <tf.Tensor 'Placeholder_1:0' shape=<unknown> dtype=float32>}"
      ]
     },
     "execution_count": 7,
     "metadata": {
      "tags": []
     },
     "output_type": "execute_result"
    }
   ],
   "source": [
    "Neural_network_model()"
   ]
  },
  {
   "cell_type": "code",
   "execution_count": 0,
   "metadata": {
    "colab": {},
    "colab_type": "code",
    "id": "16XCnCelN74d"
   },
   "outputs": [],
   "source": [
    "def train_neural_network(DNN, hm_epochs=10,batch_size=100):\n",
    "    with tf.Session() as sess:\n",
    "        sess.run(tf.global_variables_initializer())\n",
    "\n",
    "        for epoch in range(hm_epochs):\n",
    "            epoch_loss = 0\n",
    "            for _ in range(int(mnist.train.num_examples/batch_size)):\n",
    "                epoch_x, epoch_y = mnist.train.next_batch(batch_size)\n",
    "                feed_dict={DNN[\"x\"]: epoch_x, \n",
    "                           DNN[\"y\"]: epoch_y}\n",
    "                _, c, prediction,y   = sess.run([DNN[\"optimizer\"], DNN[\"cost\"]\n",
    "                                                 , DNN[\"output\"], DNN[\"y\"]], \n",
    "                                                feed_dict=feed_dict)\n",
    "                epoch_loss += c\n",
    "\n",
    "            print('Epoch', epoch, 'completed out of',hm_epochs,'loss:',epoch_loss)\n",
    "\n",
    "        correct = tf.equal(tf.argmax(prediction, 1), tf.argmax(y, 1))\n",
    "\n",
    "        accuracy = tf.reduce_mean(tf.cast(correct, 'float'))\n",
    "        print('Accuracy:',accuracy.eval({DNN[\"x\"]:mnist.test.images, DNN[\"y\"]:mnist.test.labels}))\n",
    "        \n",
    "        prediction,y   = sess.run([DNN[\"output\"], DNN[\"y\"]], feed_dict={DNN[\"x\"]:mnist.test.images, DNN[\"y\"]:mnist.test.labels})\n",
    "        correct = tf.equal(tf.argmax(prediction, 1), tf.argmax(y, 1))\n",
    "        accuracy = tf.reduce_mean(tf.cast(correct, 'float'))\n",
    "        print('Accuracy:',accuracy.eval())\n"
   ]
  },
  {
   "cell_type": "code",
   "execution_count": 9,
   "metadata": {
    "colab": {
     "base_uri": "https://localhost:8080/",
     "height": 223
    },
    "colab_type": "code",
    "executionInfo": {
     "elapsed": 68142,
     "status": "ok",
     "timestamp": 1553539655292,
     "user": {
      "displayName": "Carlos Duchanoy",
      "photoUrl": "https://lh6.googleusercontent.com/-gXwhi5Xb2vo/AAAAAAAAAAI/AAAAAAAAA2c/j3TkLhebLOo/s64/photo.jpg",
      "userId": "06916579791066221601"
     },
     "user_tz": 360
    },
    "id": "-FTq8xNnN74g",
    "outputId": "69e9cb4e-2ddb-4e35-f44c-b97bbb6845d7"
   },
   "outputs": [
    {
     "name": "stdout",
     "output_type": "stream",
     "text": [
      "Epoch 0 completed out of 10 loss: 2651172.7203216553\n",
      "Epoch 1 completed out of 10 loss: 368660.6980190277\n",
      "Epoch 2 completed out of 10 loss: 192112.60334277153\n",
      "Epoch 3 completed out of 10 loss: 124355.57390797138\n",
      "Epoch 4 completed out of 10 loss: 82727.83483694792\n",
      "Epoch 5 completed out of 10 loss: 57968.20007610321\n",
      "Epoch 6 completed out of 10 loss: 50427.243420779705\n",
      "Epoch 7 completed out of 10 loss: 38007.21596489847\n",
      "Epoch 8 completed out of 10 loss: 28318.137945883547\n",
      "Epoch 9 completed out of 10 loss: 22872.078856767417\n",
      "Accuracy: 0.98\n",
      "Accuracy: 0.9748\n"
     ]
    }
   ],
   "source": [
    "DNN=Neural_network_model()\n",
    "train_neural_network(DNN)"
   ]
  },
  {
   "cell_type": "code",
   "execution_count": 0,
   "metadata": {
    "colab": {},
    "colab_type": "code",
    "id": "tStDPnR3N74i"
   },
   "outputs": [],
   "source": []
  },
  {
   "cell_type": "code",
   "execution_count": 0,
   "metadata": {
    "colab": {},
    "colab_type": "code",
    "id": "H2KHKylYmUZa"
   },
   "outputs": [],
   "source": []
  }
 ],
 "metadata": {
  "accelerator": "GPU",
  "colab": {
   "name": "Red Convolucional.ipynb",
   "provenance": [],
   "version": "0.3.2"
  },
  "kernelspec": {
   "display_name": "Python 3",
   "language": "python",
   "name": "python3"
  },
  "language_info": {
   "codemirror_mode": {
    "name": "ipython",
    "version": 3
   },
   "file_extension": ".py",
   "mimetype": "text/x-python",
   "name": "python",
   "nbconvert_exporter": "python",
   "pygments_lexer": "ipython3",
   "version": "3.7.1"
  }
 },
 "nbformat": 4,
 "nbformat_minor": 1
}
