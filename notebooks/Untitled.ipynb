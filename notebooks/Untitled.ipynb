{
 "cells": [
  {
   "cell_type": "code",
   "execution_count": 1,
   "metadata": {},
   "outputs": [
    {
     "name": "stderr",
     "output_type": "stream",
     "text": [
      "Using TensorFlow backend.\n"
     ]
    }
   ],
   "source": [
    "import keras\n",
    "from keras.datasets import mnist\n",
    "from keras.models import Sequential\n",
    "from keras.layers import Dense, Dropout\n",
    "from keras.layers import Flatten,  MaxPooling2D, Conv2D\n",
    "from keras.callbacks import TensorBoard\n",
    "\n",
    "(X_train,y_train), (X_test, y_test) = mnist.load_data()\n",
    "\n",
    "X_train = X_train.reshape(60000,28,28,1).astype('float32')\n",
    "X_test = X_test.reshape(10000,28,28,1).astype('float32')\n",
    "\n",
    "X_train /= 255\n",
    "X_test /= 255\n",
    "\n",
    "n_classes = 10\n",
    "y_train = keras.utils.to_categorical(y_train, n_classes)\n",
    "y_test = keras.utils.to_categorical(y_test, n_classes)\n",
    "model = Sequential()\n",
    "model.add(Conv2D(32, kernel_size=(3,3), activation='relu', input_shape=(28,28,1)) )\n",
    "model.add(Conv2D(64, kernel_size=(3,3), activation='relu'))\n",
    "model.add(MaxPooling2D(pool_size=(2,2)))\n",
    "model.add(Dropout(0.25))\n",
    "model.add(Flatten())          \n",
    "model.add(Dense(128, activation='relu'))\n",
    "model.add(Dropout(0.5))\n",
    "model.add(Dense(n_classes, activation='softmax'))\n",
    "model.compile(loss='categorical_crossentropy', optimizer='adam', metrics=['accuracy'])"
   ]
  },
  {
   "cell_type": "code",
   "execution_count": 2,
   "metadata": {},
   "outputs": [
    {
     "name": "stdout",
     "output_type": "stream",
     "text": [
      "Train on 60000 samples, validate on 10000 samples\n",
      "Epoch 1/15\n",
      "60000/60000 [==============================] - 12s 193us/step - loss: 0.2463 - acc: 0.9251 - val_loss: 0.0530 - val_acc: 0.9830\n",
      "Epoch 2/15\n",
      "60000/60000 [==============================] - 3s 54us/step - loss: 0.0894 - acc: 0.9734 - val_loss: 0.0401 - val_acc: 0.9868\n",
      "Epoch 3/15\n",
      "60000/60000 [==============================] - 3s 56us/step - loss: 0.0677 - acc: 0.9794 - val_loss: 0.0339 - val_acc: 0.9895\n",
      "Epoch 4/15\n",
      "60000/60000 [==============================] - 3s 56us/step - loss: 0.0550 - acc: 0.9829 - val_loss: 0.0340 - val_acc: 0.9891\n",
      "Epoch 5/15\n",
      "60000/60000 [==============================] - 3s 56us/step - loss: 0.0479 - acc: 0.9855 - val_loss: 0.0306 - val_acc: 0.9900\n",
      "Epoch 6/15\n",
      "60000/60000 [==============================] - 3s 56us/step - loss: 0.0407 - acc: 0.9876 - val_loss: 0.0278 - val_acc: 0.9916\n",
      "Epoch 7/15\n",
      "60000/60000 [==============================] - 3s 56us/step - loss: 0.0369 - acc: 0.9880 - val_loss: 0.0277 - val_acc: 0.9919\n",
      "Epoch 8/15\n",
      "60000/60000 [==============================] - 4s 59us/step - loss: 0.0325 - acc: 0.9898 - val_loss: 0.0243 - val_acc: 0.9925\n",
      "Epoch 9/15\n",
      "60000/60000 [==============================] - 4s 61us/step - loss: 0.0298 - acc: 0.9906 - val_loss: 0.0283 - val_acc: 0.9923\n",
      "Epoch 10/15\n",
      "60000/60000 [==============================] - 3s 56us/step - loss: 0.0268 - acc: 0.9913 - val_loss: 0.0259 - val_acc: 0.9927\n",
      "Epoch 11/15\n",
      "60000/60000 [==============================] - 3s 56us/step - loss: 0.0244 - acc: 0.9924 - val_loss: 0.0268 - val_acc: 0.9925\n",
      "Epoch 12/15\n",
      "60000/60000 [==============================] - 3s 56us/step - loss: 0.0240 - acc: 0.9921 - val_loss: 0.0271 - val_acc: 0.9923\n",
      "Epoch 13/15\n",
      "60000/60000 [==============================] - 3s 58us/step - loss: 0.0217 - acc: 0.9929 - val_loss: 0.0265 - val_acc: 0.9929\n",
      "Epoch 14/15\n",
      "60000/60000 [==============================] - 4s 61us/step - loss: 0.0188 - acc: 0.9937 - val_loss: 0.0264 - val_acc: 0.9930\n",
      "Epoch 15/15\n",
      "60000/60000 [==============================] - 4s 63us/step - loss: 0.0200 - acc: 0.9931 - val_loss: 0.0240 - val_acc: 0.9928\n"
     ]
    },
    {
     "data": {
      "text/plain": [
       "<keras.callbacks.History at 0x7f7350705278>"
      ]
     },
     "execution_count": 2,
     "metadata": {},
     "output_type": "execute_result"
    }
   ],
   "source": [
    "tensor_board = TensorBoard('./logs/LeNet-MNIST-1')\n",
    "model.fit(X_train, y_train, batch_size=128, epochs=15, verbose=1,\n",
    "          validation_data=(X_test,y_test), callbacks=[tensor_board])"
   ]
  }
 ],
 "metadata": {
  "kernelspec": {
   "display_name": "ANN",
   "language": "python",
   "name": "ann"
  },
  "language_info": {
   "codemirror_mode": {
    "name": "ipython",
    "version": 3
   },
   "file_extension": ".py",
   "mimetype": "text/x-python",
   "name": "python",
   "nbconvert_exporter": "python",
   "pygments_lexer": "ipython3",
   "version": "3.6.8"
  }
 },
 "nbformat": 4,
 "nbformat_minor": 2
}
